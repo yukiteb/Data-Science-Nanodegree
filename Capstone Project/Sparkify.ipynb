{
 "cells": [
  {
   "cell_type": "markdown",
   "metadata": {},
   "source": [
    "# Sparkify Project Workspace\n",
    "This workspace contains a tiny subset (128MB) of the full dataset available (12GB). Feel free to use this workspace to build your project, or to explore a smaller subset with Spark before deploying your cluster on the cloud. Instructions for setting up your Spark cluster is included in the last lesson of the Extracurricular Spark Course content.\n",
    "\n",
    "You can follow the steps below to guide your data analysis and model building portion of this project."
   ]
  },
  {
   "cell_type": "code",
   "execution_count": 11,
   "metadata": {},
   "outputs": [],
   "source": [
    "# import libraries\n",
    "from pyspark.sql import SparkSession\n",
    "from pyspark.sql.functions import isnan, count, when, col, desc, udf, col, sort_array, asc, avg, max, min\n",
    "from pyspark.sql.functions import sum as Fsum\n",
    "from pyspark.sql.window import Window\n",
    "from pyspark.sql.types import IntegerType\n",
    "\n",
    "from pyspark.ml import Pipeline\n",
    "from pyspark.ml.classification import LogisticRegression, GBTClassifier,LinearSVC, RandomForestClassifier\n",
    "from pyspark.ml.evaluation import MulticlassClassificationEvaluator\n",
    "from pyspark.ml.feature import StandardScaler, VectorAssembler\n",
    "from pyspark.ml.tuning import CrossValidator, ParamGridBuilder\n",
    "\n",
    "# import pandas, matplotlib, and seaborn for visualization and EDA\n",
    "import pandas as pd\n",
    "import numpy as np\n",
    "import matplotlib.pyplot as plt\n",
    "import seaborn as sns\n",
    "\n",
    "import datetime"
   ]
  },
  {
   "cell_type": "code",
   "execution_count": 12,
   "metadata": {},
   "outputs": [],
   "source": [
    "# create a Spark session\n",
    "spark = SparkSession \\\n",
    "    .builder \\\n",
    "    .appName(\"Data Frames practice\") \\\n",
    "    .getOrCreate()\n",
    "\n",
    "# df = spark.read.json(\"mini_sparkify_event_data.json\")\n",
    "df = spark.read.json(\"medium-sparkify-event-data.json\")"
   ]
  },
  {
   "cell_type": "markdown",
   "metadata": {},
   "source": [
    "# Load and Clean Dataset\n",
    "In this workspace, the mini-dataset file is `mini_sparkify_event_data.json`. Load and clean the dataset, checking for invalid or missing data - for example, records without userids or sessionids. "
   ]
  },
  {
   "cell_type": "code",
   "execution_count": 13,
   "metadata": {},
   "outputs": [
    {
     "data": {
      "text/plain": [
       "Row(artist='Martin Orford', auth='Logged In', firstName='Joseph', gender='M', itemInSession=20, lastName='Morales', length=597.55057, level='free', location='Corpus Christi, TX', method='PUT', page='NextSong', registration=1532063507000, sessionId=292, song='Grand Designs', status=200, ts=1538352011000, userAgent='\"Mozilla/5.0 (Macintosh; Intel Mac OS X 10_9_4) AppleWebKit/537.36 (KHTML, like Gecko) Chrome/36.0.1985.125 Safari/537.36\"', userId='293')"
      ]
     },
     "execution_count": 13,
     "metadata": {},
     "output_type": "execute_result"
    }
   ],
   "source": [
    "# take a look at how data looks like\n",
    "df.head()"
   ]
  },
  {
   "cell_type": "code",
   "execution_count": 14,
   "metadata": {},
   "outputs": [
    {
     "name": "stdout",
     "output_type": "stream",
     "text": [
      "root\n",
      " |-- artist: string (nullable = true)\n",
      " |-- auth: string (nullable = true)\n",
      " |-- firstName: string (nullable = true)\n",
      " |-- gender: string (nullable = true)\n",
      " |-- itemInSession: long (nullable = true)\n",
      " |-- lastName: string (nullable = true)\n",
      " |-- length: double (nullable = true)\n",
      " |-- level: string (nullable = true)\n",
      " |-- location: string (nullable = true)\n",
      " |-- method: string (nullable = true)\n",
      " |-- page: string (nullable = true)\n",
      " |-- registration: long (nullable = true)\n",
      " |-- sessionId: long (nullable = true)\n",
      " |-- song: string (nullable = true)\n",
      " |-- status: long (nullable = true)\n",
      " |-- ts: long (nullable = true)\n",
      " |-- userAgent: string (nullable = true)\n",
      " |-- userId: string (nullable = true)\n",
      "\n"
     ]
    }
   ],
   "source": [
    "# take a look at the dataframe schema\n",
    "df.printSchema()"
   ]
  },
  {
   "cell_type": "code",
   "execution_count": 15,
   "metadata": {},
   "outputs": [
    {
     "name": "stdout",
     "output_type": "stream",
     "text": [
      "Total row counts:543705\n",
      "Total unique row counts:543705\n"
     ]
    }
   ],
   "source": [
    "# look at the row counts\n",
    "print('Total row counts:' + str(df.count()))\n",
    "print('Total unique row counts:' + str(df.distinct().count()))"
   ]
  },
  {
   "cell_type": "code",
   "execution_count": 16,
   "metadata": {},
   "outputs": [
    {
     "name": "stdout",
     "output_type": "stream",
     "text": [
      "artist:110828\n",
      "auth:0\n",
      "firstName:15700\n",
      "gender:15700\n",
      "itemInSession:0\n",
      "lastName:15700\n",
      "length:110828\n",
      "level:0\n",
      "location:15700\n",
      "method:0\n",
      "page:0\n",
      "registration:15700\n",
      "sessionId:0\n",
      "song:110828\n",
      "status:0\n",
      "ts:0\n",
      "userAgent:15700\n",
      "userId:0\n"
     ]
    }
   ],
   "source": [
    "# look at the missing values\n",
    "for col in df.columns:\n",
    "    print(col + ':' + str(df.filter(df[col].isNull()).count()))"
   ]
  },
  {
   "cell_type": "markdown",
   "metadata": {},
   "source": [
    "It looks like the following columns have the same missing values (15700):\n",
    "\n",
    "- firstName\n",
    "- gender\n",
    "- lastName\n",
    "- location\n",
    "- registration\n",
    "- userAgent\n",
    "\n",
    "Also, following columns have the same number of missing values (110828):\n",
    "\n",
    "- artist\n",
    "- length\n",
    "- song\n",
    "\n",
    "It's likely that these rows are missing at the same place"
   ]
  },
  {
   "cell_type": "code",
   "execution_count": 17,
   "metadata": {},
   "outputs": [
    {
     "name": "stdout",
     "output_type": "stream",
     "text": [
      "artist:95128\n",
      "auth:0\n",
      "firstName:0\n",
      "gender:0\n",
      "itemInSession:0\n",
      "lastName:0\n",
      "length:95128\n",
      "level:0\n",
      "location:0\n",
      "method:0\n",
      "page:0\n",
      "registration:0\n",
      "sessionId:0\n",
      "song:95128\n",
      "status:0\n",
      "ts:0\n",
      "userAgent:0\n",
      "userId:0\n"
     ]
    }
   ],
   "source": [
    "# remove the missing rows\n",
    "# if registration is missing then columns such as firstName, gender, and location are also missing\n",
    "df = df.filter(df.registration.isNotNull())\n",
    "for col in df.columns:\n",
    "    print(col + ':' + str(df.filter(df[col].isNull()).count()))"
   ]
  },
  {
   "cell_type": "code",
   "execution_count": 18,
   "metadata": {},
   "outputs": [
    {
     "data": {
      "text/plain": [
       "528005"
      ]
     },
     "execution_count": 18,
     "metadata": {},
     "output_type": "execute_result"
    }
   ],
   "source": [
    "df.count()"
   ]
  },
  {
   "cell_type": "code",
   "execution_count": 19,
   "metadata": {},
   "outputs": [
    {
     "data": {
      "text/html": [
       "<div>\n",
       "<style scoped>\n",
       "    .dataframe tbody tr th:only-of-type {\n",
       "        vertical-align: middle;\n",
       "    }\n",
       "\n",
       "    .dataframe tbody tr th {\n",
       "        vertical-align: top;\n",
       "    }\n",
       "\n",
       "    .dataframe thead th {\n",
       "        text-align: right;\n",
       "    }\n",
       "</style>\n",
       "<table border=\"1\" class=\"dataframe\">\n",
       "  <thead>\n",
       "    <tr style=\"text-align: right;\">\n",
       "      <th></th>\n",
       "      <th>artist</th>\n",
       "      <th>auth</th>\n",
       "      <th>firstName</th>\n",
       "      <th>gender</th>\n",
       "      <th>itemInSession</th>\n",
       "      <th>lastName</th>\n",
       "      <th>length</th>\n",
       "      <th>level</th>\n",
       "      <th>location</th>\n",
       "      <th>method</th>\n",
       "      <th>page</th>\n",
       "      <th>registration</th>\n",
       "      <th>sessionId</th>\n",
       "      <th>song</th>\n",
       "      <th>status</th>\n",
       "      <th>ts</th>\n",
       "      <th>userAgent</th>\n",
       "      <th>userId</th>\n",
       "    </tr>\n",
       "  </thead>\n",
       "  <tbody>\n",
       "    <tr>\n",
       "      <th>0</th>\n",
       "      <td>Martin Orford</td>\n",
       "      <td>Logged In</td>\n",
       "      <td>Joseph</td>\n",
       "      <td>M</td>\n",
       "      <td>20</td>\n",
       "      <td>Morales</td>\n",
       "      <td>597.55057</td>\n",
       "      <td>free</td>\n",
       "      <td>Corpus Christi, TX</td>\n",
       "      <td>PUT</td>\n",
       "      <td>NextSong</td>\n",
       "      <td>1532063507000</td>\n",
       "      <td>292</td>\n",
       "      <td>Grand Designs</td>\n",
       "      <td>200</td>\n",
       "      <td>1538352011000</td>\n",
       "      <td>\"Mozilla/5.0 (Macintosh; Intel Mac OS X 10_9_4...</td>\n",
       "      <td>293</td>\n",
       "    </tr>\n",
       "    <tr>\n",
       "      <th>1</th>\n",
       "      <td>John Brown's Body</td>\n",
       "      <td>Logged In</td>\n",
       "      <td>Sawyer</td>\n",
       "      <td>M</td>\n",
       "      <td>74</td>\n",
       "      <td>Larson</td>\n",
       "      <td>380.21179</td>\n",
       "      <td>free</td>\n",
       "      <td>Houston-The Woodlands-Sugar Land, TX</td>\n",
       "      <td>PUT</td>\n",
       "      <td>NextSong</td>\n",
       "      <td>1538069638000</td>\n",
       "      <td>97</td>\n",
       "      <td>Bulls</td>\n",
       "      <td>200</td>\n",
       "      <td>1538352025000</td>\n",
       "      <td>\"Mozilla/5.0 (Macintosh; Intel Mac OS X 10_9_4...</td>\n",
       "      <td>98</td>\n",
       "    </tr>\n",
       "    <tr>\n",
       "      <th>2</th>\n",
       "      <td>Afroman</td>\n",
       "      <td>Logged In</td>\n",
       "      <td>Maverick</td>\n",
       "      <td>M</td>\n",
       "      <td>184</td>\n",
       "      <td>Santiago</td>\n",
       "      <td>202.37016</td>\n",
       "      <td>paid</td>\n",
       "      <td>Orlando-Kissimmee-Sanford, FL</td>\n",
       "      <td>PUT</td>\n",
       "      <td>NextSong</td>\n",
       "      <td>1535953455000</td>\n",
       "      <td>178</td>\n",
       "      <td>Because I Got High</td>\n",
       "      <td>200</td>\n",
       "      <td>1538352118000</td>\n",
       "      <td>\"Mozilla/5.0 (Macintosh; Intel Mac OS X 10_9_4...</td>\n",
       "      <td>179</td>\n",
       "    </tr>\n",
       "    <tr>\n",
       "      <th>3</th>\n",
       "      <td>None</td>\n",
       "      <td>Logged In</td>\n",
       "      <td>Maverick</td>\n",
       "      <td>M</td>\n",
       "      <td>185</td>\n",
       "      <td>Santiago</td>\n",
       "      <td>NaN</td>\n",
       "      <td>paid</td>\n",
       "      <td>Orlando-Kissimmee-Sanford, FL</td>\n",
       "      <td>PUT</td>\n",
       "      <td>Logout</td>\n",
       "      <td>1535953455000</td>\n",
       "      <td>178</td>\n",
       "      <td>None</td>\n",
       "      <td>307</td>\n",
       "      <td>1538352119000</td>\n",
       "      <td>\"Mozilla/5.0 (Macintosh; Intel Mac OS X 10_9_4...</td>\n",
       "      <td>179</td>\n",
       "    </tr>\n",
       "    <tr>\n",
       "      <th>4</th>\n",
       "      <td>Lily Allen</td>\n",
       "      <td>Logged In</td>\n",
       "      <td>Gianna</td>\n",
       "      <td>F</td>\n",
       "      <td>22</td>\n",
       "      <td>Campos</td>\n",
       "      <td>194.53342</td>\n",
       "      <td>paid</td>\n",
       "      <td>Mobile, AL</td>\n",
       "      <td>PUT</td>\n",
       "      <td>NextSong</td>\n",
       "      <td>1535931018000</td>\n",
       "      <td>245</td>\n",
       "      <td>Smile (Radio Edit)</td>\n",
       "      <td>200</td>\n",
       "      <td>1538352124000</td>\n",
       "      <td>Mozilla/5.0 (Windows NT 6.1; WOW64; rv:31.0) G...</td>\n",
       "      <td>246</td>\n",
       "    </tr>\n",
       "    <tr>\n",
       "      <th>5</th>\n",
       "      <td>Carter USM</td>\n",
       "      <td>Logged In</td>\n",
       "      <td>Sofia</td>\n",
       "      <td>F</td>\n",
       "      <td>266</td>\n",
       "      <td>Gordon</td>\n",
       "      <td>138.29179</td>\n",
       "      <td>paid</td>\n",
       "      <td>Rochester, MN</td>\n",
       "      <td>PUT</td>\n",
       "      <td>NextSong</td>\n",
       "      <td>1533175710000</td>\n",
       "      <td>162</td>\n",
       "      <td>Airplane Food</td>\n",
       "      <td>200</td>\n",
       "      <td>1538352125000</td>\n",
       "      <td>\"Mozilla/5.0 (Macintosh; Intel Mac OS X 10_9_4...</td>\n",
       "      <td>163</td>\n",
       "    </tr>\n",
       "    <tr>\n",
       "      <th>6</th>\n",
       "      <td>None</td>\n",
       "      <td>Logged In</td>\n",
       "      <td>Maverick</td>\n",
       "      <td>M</td>\n",
       "      <td>190</td>\n",
       "      <td>Santiago</td>\n",
       "      <td>NaN</td>\n",
       "      <td>paid</td>\n",
       "      <td>Orlando-Kissimmee-Sanford, FL</td>\n",
       "      <td>GET</td>\n",
       "      <td>Home</td>\n",
       "      <td>1535953455000</td>\n",
       "      <td>178</td>\n",
       "      <td>None</td>\n",
       "      <td>200</td>\n",
       "      <td>1538352176000</td>\n",
       "      <td>\"Mozilla/5.0 (Macintosh; Intel Mac OS X 10_9_4...</td>\n",
       "      <td>179</td>\n",
       "    </tr>\n",
       "    <tr>\n",
       "      <th>7</th>\n",
       "      <td>Aerosmith</td>\n",
       "      <td>Logged In</td>\n",
       "      <td>Lacey</td>\n",
       "      <td>F</td>\n",
       "      <td>107</td>\n",
       "      <td>Castaneda</td>\n",
       "      <td>220.39465</td>\n",
       "      <td>free</td>\n",
       "      <td>El Campo, TX</td>\n",
       "      <td>PUT</td>\n",
       "      <td>NextSong</td>\n",
       "      <td>1537536032000</td>\n",
       "      <td>442</td>\n",
       "      <td>Walk This Way</td>\n",
       "      <td>200</td>\n",
       "      <td>1538352215000</td>\n",
       "      <td>\"Mozilla/5.0 (Macintosh; Intel Mac OS X 10_10_...</td>\n",
       "      <td>175</td>\n",
       "    </tr>\n",
       "    <tr>\n",
       "      <th>8</th>\n",
       "      <td>None</td>\n",
       "      <td>Logged In</td>\n",
       "      <td>Colin</td>\n",
       "      <td>M</td>\n",
       "      <td>0</td>\n",
       "      <td>Larson</td>\n",
       "      <td>NaN</td>\n",
       "      <td>free</td>\n",
       "      <td>Dallas-Fort Worth-Arlington, TX</td>\n",
       "      <td>GET</td>\n",
       "      <td>Home</td>\n",
       "      <td>1537982255000</td>\n",
       "      <td>497</td>\n",
       "      <td>None</td>\n",
       "      <td>200</td>\n",
       "      <td>1538352241000</td>\n",
       "      <td>Mozilla/5.0 (Windows NT 6.1; WOW64; rv:30.0) G...</td>\n",
       "      <td>100</td>\n",
       "    </tr>\n",
       "    <tr>\n",
       "      <th>9</th>\n",
       "      <td>Amy Winehouse</td>\n",
       "      <td>Logged In</td>\n",
       "      <td>Colin</td>\n",
       "      <td>M</td>\n",
       "      <td>1</td>\n",
       "      <td>Larson</td>\n",
       "      <td>201.50812</td>\n",
       "      <td>free</td>\n",
       "      <td>Dallas-Fort Worth-Arlington, TX</td>\n",
       "      <td>PUT</td>\n",
       "      <td>NextSong</td>\n",
       "      <td>1537982255000</td>\n",
       "      <td>497</td>\n",
       "      <td>Teach Me Tonight</td>\n",
       "      <td>200</td>\n",
       "      <td>1538352259000</td>\n",
       "      <td>Mozilla/5.0 (Windows NT 6.1; WOW64; rv:30.0) G...</td>\n",
       "      <td>100</td>\n",
       "    </tr>\n",
       "  </tbody>\n",
       "</table>\n",
       "</div>"
      ],
      "text/plain": [
       "              artist       auth firstName gender  itemInSession   lastName  \\\n",
       "0      Martin Orford  Logged In    Joseph      M             20    Morales   \n",
       "1  John Brown's Body  Logged In    Sawyer      M             74     Larson   \n",
       "2            Afroman  Logged In  Maverick      M            184   Santiago   \n",
       "3               None  Logged In  Maverick      M            185   Santiago   \n",
       "4         Lily Allen  Logged In    Gianna      F             22     Campos   \n",
       "5         Carter USM  Logged In     Sofia      F            266     Gordon   \n",
       "6               None  Logged In  Maverick      M            190   Santiago   \n",
       "7          Aerosmith  Logged In     Lacey      F            107  Castaneda   \n",
       "8               None  Logged In     Colin      M              0     Larson   \n",
       "9      Amy Winehouse  Logged In     Colin      M              1     Larson   \n",
       "\n",
       "      length level                              location method      page  \\\n",
       "0  597.55057  free                    Corpus Christi, TX    PUT  NextSong   \n",
       "1  380.21179  free  Houston-The Woodlands-Sugar Land, TX    PUT  NextSong   \n",
       "2  202.37016  paid         Orlando-Kissimmee-Sanford, FL    PUT  NextSong   \n",
       "3        NaN  paid         Orlando-Kissimmee-Sanford, FL    PUT    Logout   \n",
       "4  194.53342  paid                            Mobile, AL    PUT  NextSong   \n",
       "5  138.29179  paid                         Rochester, MN    PUT  NextSong   \n",
       "6        NaN  paid         Orlando-Kissimmee-Sanford, FL    GET      Home   \n",
       "7  220.39465  free                          El Campo, TX    PUT  NextSong   \n",
       "8        NaN  free       Dallas-Fort Worth-Arlington, TX    GET      Home   \n",
       "9  201.50812  free       Dallas-Fort Worth-Arlington, TX    PUT  NextSong   \n",
       "\n",
       "    registration  sessionId                song  status             ts  \\\n",
       "0  1532063507000        292       Grand Designs     200  1538352011000   \n",
       "1  1538069638000         97               Bulls     200  1538352025000   \n",
       "2  1535953455000        178  Because I Got High     200  1538352118000   \n",
       "3  1535953455000        178                None     307  1538352119000   \n",
       "4  1535931018000        245  Smile (Radio Edit)     200  1538352124000   \n",
       "5  1533175710000        162       Airplane Food     200  1538352125000   \n",
       "6  1535953455000        178                None     200  1538352176000   \n",
       "7  1537536032000        442       Walk This Way     200  1538352215000   \n",
       "8  1537982255000        497                None     200  1538352241000   \n",
       "9  1537982255000        497    Teach Me Tonight     200  1538352259000   \n",
       "\n",
       "                                           userAgent userId  \n",
       "0  \"Mozilla/5.0 (Macintosh; Intel Mac OS X 10_9_4...    293  \n",
       "1  \"Mozilla/5.0 (Macintosh; Intel Mac OS X 10_9_4...     98  \n",
       "2  \"Mozilla/5.0 (Macintosh; Intel Mac OS X 10_9_4...    179  \n",
       "3  \"Mozilla/5.0 (Macintosh; Intel Mac OS X 10_9_4...    179  \n",
       "4  Mozilla/5.0 (Windows NT 6.1; WOW64; rv:31.0) G...    246  \n",
       "5  \"Mozilla/5.0 (Macintosh; Intel Mac OS X 10_9_4...    163  \n",
       "6  \"Mozilla/5.0 (Macintosh; Intel Mac OS X 10_9_4...    179  \n",
       "7  \"Mozilla/5.0 (Macintosh; Intel Mac OS X 10_10_...    175  \n",
       "8  Mozilla/5.0 (Windows NT 6.1; WOW64; rv:30.0) G...    100  \n",
       "9  Mozilla/5.0 (Windows NT 6.1; WOW64; rv:30.0) G...    100  "
      ]
     },
     "execution_count": 19,
     "metadata": {},
     "output_type": "execute_result"
    }
   ],
   "source": [
    "df.toPandas().head(10)"
   ]
  },
  {
   "cell_type": "markdown",
   "metadata": {},
   "source": [
    "# Exploratory Data Analysis\n",
    "When you're working with the full dataset, perform EDA by loading a small subset of the data and doing basic manipulations within Spark. In this workspace, you are already provided a small subset of data you can explore.\n",
    "\n",
    "### Define Churn\n",
    "\n",
    "Once you've done some preliminary analysis, create a column `Churn` to use as the label for your model. I suggest using the `Cancellation Confirmation` events to define your churn, which happen for both paid and free users. As a bonus task, you can also look into the `Downgrade` events.\n",
    "\n",
    "### Explore Data\n",
    "Once you've defined churn, perform some exploratory data analysis to observe the behavior for users who stayed vs users who churned. You can start by exploring aggregates on these two groups of users, observing how much of a specific action they experienced per a certain time unit or number of songs played."
   ]
  },
  {
   "cell_type": "markdown",
   "metadata": {},
   "source": [
    "## Define Churn\n",
    "Let's define churn as Cancellation Confirmation"
   ]
  },
  {
   "cell_type": "code",
   "execution_count": 20,
   "metadata": {},
   "outputs": [],
   "source": [
    "# this function flags 1 if there's any cancellation confirmation event (churn_event column)\n",
    "flag_churn_event = udf(lambda x: 1 if x == 'Cancellation Confirmation' else 0, IntegerType())\n",
    "df = df.withColumn('churn_event', flag_churn_event('page'))\n",
    "\n",
    "# below creates \"churn\" column and places 1 if there's churn_event for a particular user\n",
    "windowval = Window.partitionBy('userId')\n",
    "df_churn = df.withColumn('churn', max('churn_event').over(windowval))"
   ]
  },
  {
   "cell_type": "markdown",
   "metadata": {},
   "source": [
    "## Exploratory Data Analysis\n",
    "Let's conduct EDA and understand the data from various angles. To start with, let's first understand what information each column contains. Some of the fields are very intuitive, such as firstName, lastName and artist, but some are not so obvious. For example:\n",
    "\n",
    "- First of all, how many percentage of users have churned?\n",
    "- What are the possible pages which users can visit?\n",
    "- What does 'status' mean?\n",
    "- What is 'userAgent'?"
   ]
  },
  {
   "cell_type": "markdown",
   "metadata": {},
   "source": [
    "### How many percentage of users have churned?\n",
    "Let's look first look at how many percentage of users have churned. This is important to understand, as it related to the metric we can employ (e.g. if data is skewed to one particilar class, accuracy isn't a good measure). Also, this also helps gauge the performance of naive baseline model, which always flag churn or no-churn."
   ]
  },
  {
   "cell_type": "code",
   "execution_count": 21,
   "metadata": {},
   "outputs": [
    {
     "data": {
      "text/html": [
       "<div>\n",
       "<style scoped>\n",
       "    .dataframe tbody tr th:only-of-type {\n",
       "        vertical-align: middle;\n",
       "    }\n",
       "\n",
       "    .dataframe tbody tr th {\n",
       "        vertical-align: top;\n",
       "    }\n",
       "\n",
       "    .dataframe thead th {\n",
       "        text-align: right;\n",
       "    }\n",
       "</style>\n",
       "<table border=\"1\" class=\"dataframe\">\n",
       "  <thead>\n",
       "    <tr style=\"text-align: right;\">\n",
       "      <th></th>\n",
       "      <th>churn</th>\n",
       "      <th>count</th>\n",
       "    </tr>\n",
       "  </thead>\n",
       "  <tbody>\n",
       "    <tr>\n",
       "      <th>0</th>\n",
       "      <td>1</td>\n",
       "      <td>99</td>\n",
       "    </tr>\n",
       "    <tr>\n",
       "      <th>1</th>\n",
       "      <td>0</td>\n",
       "      <td>349</td>\n",
       "    </tr>\n",
       "  </tbody>\n",
       "</table>\n",
       "</div>"
      ],
      "text/plain": [
       "   churn  count\n",
       "0      1     99\n",
       "1      0    349"
      ]
     },
     "execution_count": 21,
     "metadata": {},
     "output_type": "execute_result"
    }
   ],
   "source": [
    "churn_df = df_churn.dropDuplicates(['userId']).groupby('churn').count().toPandas()\n",
    "churn_df.head(5)"
   ]
  },
  {
   "cell_type": "code",
   "execution_count": 22,
   "metadata": {},
   "outputs": [
    {
     "data": {
      "image/png": "[encoded data removed]",
      "text/plain": [
       "<matplotlib.figure.Figure at 0x7f492041a9b0>"
      ]
     },
     "metadata": {
      "needs_background": "light"
     },
     "output_type": "display_data"
    }
   ],
   "source": [
    "plt.bar([0,1],churn_df['count'].values)\n",
    "plt.xticks([0,1], ['churn', 'no churn'], fontsize=10)\n",
    "plt.show()"
   ]
  },
  {
   "cell_type": "markdown",
   "metadata": {},
   "source": [
    "It looks like it is skewed towawrds no-churn(as expected! if it is skewed towards more churn then the business won't exist). It's roughly about 100 / 450, which is around 22%. Alternatively, <b>naive model of always predicting 'no-churn' has the performance of 78% accuracy</b>."
   ]
  },
  {
   "cell_type": "markdown",
   "metadata": {},
   "source": [
    "### Page\n",
    "Below is the distribution of the 'page' column. We used \"Cancellation Confirmation\" as the definition of churn. Some of the 'page's look relevant for our analysis, for example, number of \"<b>Thumbs Up</b>\" or number of \"<b>Thumbs Down</b>\" may indicate whehter a particular user likes the service or not. In addition, perhaps users who visit \"<b>Add to Playlisst</b>\" more may be less likely to leave the service."
   ]
  },
  {
   "cell_type": "code",
   "execution_count": 23,
   "metadata": {},
   "outputs": [
    {
     "name": "stdout",
     "output_type": "stream",
     "text": [
      "+--------------------+------+\n",
      "|                page| count|\n",
      "+--------------------+------+\n",
      "|              Cancel|    99|\n",
      "|    Submit Downgrade|   117|\n",
      "|         Thumbs Down|  4911|\n",
      "|                Home| 19089|\n",
      "|           Downgrade|  3811|\n",
      "|         Roll Advert|  7773|\n",
      "|              Logout|  5990|\n",
      "|       Save Settings|   585|\n",
      "|Cancellation Conf...|    99|\n",
      "|               About|  1026|\n",
      "|            Settings|  2964|\n",
      "|     Add to Playlist| 12349|\n",
      "|          Add Friend|  8087|\n",
      "|            NextSong|432877|\n",
      "|           Thumbs Up| 23826|\n",
      "|                Help|  2644|\n",
      "|             Upgrade|   968|\n",
      "|               Error|   503|\n",
      "|      Submit Upgrade|   287|\n",
      "+--------------------+------+\n",
      "\n"
     ]
    }
   ],
   "source": [
    "# Possible pages\n",
    "df_churn.groupby('page').count().show()"
   ]
  },
  {
   "cell_type": "markdown",
   "metadata": {},
   "source": [
    "### Status\n",
    "Below is the distribution of the 'status' column. It looks like HTTP status code. Quick check tells me that status code can be categorized as follows:\n",
    "\n",
    "- 404: Page not found\n",
    "- 307: Temporary Redirect\n",
    "- 200: Success\n",
    "\n",
    "My hypothesis is that users who had frequent error (i.e. HTTP 404 Page not found) may get frustrated with the service and more likely to leave the service. So this may be one of features we could use when building the model."
   ]
  },
  {
   "cell_type": "code",
   "execution_count": 24,
   "metadata": {},
   "outputs": [
    {
     "name": "stdout",
     "output_type": "stream",
     "text": [
      "+------+------+\n",
      "|status| count|\n",
      "+------+------+\n",
      "|   404|   503|\n",
      "|   307| 43902|\n",
      "|   200|483600|\n",
      "+------+------+\n",
      "\n"
     ]
    }
   ],
   "source": [
    "# Possible status\n",
    "df_churn.groupby('status').count().sort('count').show()"
   ]
  },
  {
   "cell_type": "markdown",
   "metadata": {},
   "source": [
    "### User Agent\n",
    "Below is the distribution of 'userAgent'. It seems like from which device/brower users have used the service. It could affect a part of user experience, but I believe this is indirectly captured by which 'page' users have visited so we may skip this feature."
   ]
  },
  {
   "cell_type": "code",
   "execution_count": 25,
   "metadata": {},
   "outputs": [
    {
     "data": {
      "text/html": [
       "<div>\n",
       "<style scoped>\n",
       "    .dataframe tbody tr th:only-of-type {\n",
       "        vertical-align: middle;\n",
       "    }\n",
       "\n",
       "    .dataframe tbody tr th {\n",
       "        vertical-align: top;\n",
       "    }\n",
       "\n",
       "    .dataframe thead th {\n",
       "        text-align: right;\n",
       "    }\n",
       "</style>\n",
       "<table border=\"1\" class=\"dataframe\">\n",
       "  <thead>\n",
       "    <tr style=\"text-align: right;\">\n",
       "      <th></th>\n",
       "      <th>userAgent</th>\n",
       "      <th>count</th>\n",
       "    </tr>\n",
       "  </thead>\n",
       "  <tbody>\n",
       "    <tr>\n",
       "      <th>0</th>\n",
       "      <td>\"Mozilla/5.0 (Macintosh; Intel Mac OS X 10_9_2...</td>\n",
       "      <td>245</td>\n",
       "    </tr>\n",
       "    <tr>\n",
       "      <th>1</th>\n",
       "      <td>Mozilla/5.0 (compatible; MSIE 9.0; Windows NT ...</td>\n",
       "      <td>406</td>\n",
       "    </tr>\n",
       "    <tr>\n",
       "      <th>2</th>\n",
       "      <td>Mozilla/5.0 (Macintosh; Intel Mac OS X 10.9; r...</td>\n",
       "      <td>447</td>\n",
       "    </tr>\n",
       "    <tr>\n",
       "      <th>3</th>\n",
       "      <td>\"Mozilla/5.0 (X11; Linux x86_64) AppleWebKit/5...</td>\n",
       "      <td>523</td>\n",
       "    </tr>\n",
       "    <tr>\n",
       "      <th>4</th>\n",
       "      <td>\"Mozilla/5.0 (Macintosh; Intel Mac OS X 10_8_5...</td>\n",
       "      <td>525</td>\n",
       "    </tr>\n",
       "    <tr>\n",
       "      <th>5</th>\n",
       "      <td>Mozilla/5.0 (Windows NT 6.0; rv:31.0) Gecko/20...</td>\n",
       "      <td>542</td>\n",
       "    </tr>\n",
       "    <tr>\n",
       "      <th>6</th>\n",
       "      <td>Mozilla/5.0 (X11; Ubuntu; Linux x86_64; rv:30....</td>\n",
       "      <td>593</td>\n",
       "    </tr>\n",
       "    <tr>\n",
       "      <th>7</th>\n",
       "      <td>Mozilla/5.0 (Windows NT 6.1; WOW64; rv:32.0) G...</td>\n",
       "      <td>801</td>\n",
       "    </tr>\n",
       "    <tr>\n",
       "      <th>8</th>\n",
       "      <td>\"Mozilla/5.0 (Macintosh; Intel Mac OS X 10_9_2...</td>\n",
       "      <td>825</td>\n",
       "    </tr>\n",
       "    <tr>\n",
       "      <th>9</th>\n",
       "      <td>\"Mozilla/5.0 (Macintosh; Intel Mac OS X 10_9_2...</td>\n",
       "      <td>849</td>\n",
       "    </tr>\n",
       "    <tr>\n",
       "      <th>10</th>\n",
       "      <td>\"Mozilla/5.0 (Macintosh; Intel Mac OS X 10_7_5...</td>\n",
       "      <td>875</td>\n",
       "    </tr>\n",
       "    <tr>\n",
       "      <th>11</th>\n",
       "      <td>\"Mozilla/5.0 (Macintosh; Intel Mac OS X 10_9_3...</td>\n",
       "      <td>896</td>\n",
       "    </tr>\n",
       "    <tr>\n",
       "      <th>12</th>\n",
       "      <td>Mozilla/5.0 (Windows NT 5.1; rv:31.0) Gecko/20...</td>\n",
       "      <td>1123</td>\n",
       "    </tr>\n",
       "    <tr>\n",
       "      <th>13</th>\n",
       "      <td>\"Mozilla/5.0 (Macintosh; Intel Mac OS X 10_9_3...</td>\n",
       "      <td>1227</td>\n",
       "    </tr>\n",
       "    <tr>\n",
       "      <th>14</th>\n",
       "      <td>Mozilla/5.0 (Macintosh; Intel Mac OS X 10.6; r...</td>\n",
       "      <td>1343</td>\n",
       "    </tr>\n",
       "    <tr>\n",
       "      <th>15</th>\n",
       "      <td>\"Mozilla/5.0 (iPad; CPU OS 7_1_1 like Mac OS X...</td>\n",
       "      <td>1634</td>\n",
       "    </tr>\n",
       "    <tr>\n",
       "      <th>16</th>\n",
       "      <td>\"Mozilla/5.0 (Macintosh; Intel Mac OS X 10_6_8...</td>\n",
       "      <td>1783</td>\n",
       "    </tr>\n",
       "    <tr>\n",
       "      <th>17</th>\n",
       "      <td>\"Mozilla/5.0 (Macintosh; Intel Mac OS X 10_10)...</td>\n",
       "      <td>1800</td>\n",
       "    </tr>\n",
       "    <tr>\n",
       "      <th>18</th>\n",
       "      <td>\"Mozilla/5.0 (iPhone; CPU iPhone OS 7_1_1 like...</td>\n",
       "      <td>1803</td>\n",
       "    </tr>\n",
       "    <tr>\n",
       "      <th>19</th>\n",
       "      <td>Mozilla/5.0 (X11; Ubuntu; Linux i686; rv:31.0)...</td>\n",
       "      <td>1897</td>\n",
       "    </tr>\n",
       "  </tbody>\n",
       "</table>\n",
       "</div>"
      ],
      "text/plain": [
       "                                            userAgent  count\n",
       "0   \"Mozilla/5.0 (Macintosh; Intel Mac OS X 10_9_2...    245\n",
       "1   Mozilla/5.0 (compatible; MSIE 9.0; Windows NT ...    406\n",
       "2   Mozilla/5.0 (Macintosh; Intel Mac OS X 10.9; r...    447\n",
       "3   \"Mozilla/5.0 (X11; Linux x86_64) AppleWebKit/5...    523\n",
       "4   \"Mozilla/5.0 (Macintosh; Intel Mac OS X 10_8_5...    525\n",
       "5   Mozilla/5.0 (Windows NT 6.0; rv:31.0) Gecko/20...    542\n",
       "6   Mozilla/5.0 (X11; Ubuntu; Linux x86_64; rv:30....    593\n",
       "7   Mozilla/5.0 (Windows NT 6.1; WOW64; rv:32.0) G...    801\n",
       "8   \"Mozilla/5.0 (Macintosh; Intel Mac OS X 10_9_2...    825\n",
       "9   \"Mozilla/5.0 (Macintosh; Intel Mac OS X 10_9_2...    849\n",
       "10  \"Mozilla/5.0 (Macintosh; Intel Mac OS X 10_7_5...    875\n",
       "11  \"Mozilla/5.0 (Macintosh; Intel Mac OS X 10_9_3...    896\n",
       "12  Mozilla/5.0 (Windows NT 5.1; rv:31.0) Gecko/20...   1123\n",
       "13  \"Mozilla/5.0 (Macintosh; Intel Mac OS X 10_9_3...   1227\n",
       "14  Mozilla/5.0 (Macintosh; Intel Mac OS X 10.6; r...   1343\n",
       "15  \"Mozilla/5.0 (iPad; CPU OS 7_1_1 like Mac OS X...   1634\n",
       "16  \"Mozilla/5.0 (Macintosh; Intel Mac OS X 10_6_8...   1783\n",
       "17  \"Mozilla/5.0 (Macintosh; Intel Mac OS X 10_10)...   1800\n",
       "18  \"Mozilla/5.0 (iPhone; CPU iPhone OS 7_1_1 like...   1803\n",
       "19  Mozilla/5.0 (X11; Ubuntu; Linux i686; rv:31.0)...   1897"
      ]
     },
     "execution_count": 25,
     "metadata": {},
     "output_type": "execute_result"
    }
   ],
   "source": [
    "# Possible User Agent\n",
    "df_churn.groupby('userAgent').count().sort('count').toPandas().head(20)"
   ]
  },
  {
   "cell_type": "markdown",
   "metadata": {},
   "source": [
    "### Method\n",
    "It appears that these are method for HTTP request, and there are only 2 possibilities: \"GET\" or \"PUT\". Basically they are retrieving data from a server (GET) or sending data to a server (PUT).\n",
    "\n",
    "I believe these are also indirectly reflected in 'page' content, so we will not use this as features."
   ]
  },
  {
   "cell_type": "code",
   "execution_count": 26,
   "metadata": {},
   "outputs": [
    {
     "data": {
      "text/html": [
       "<div>\n",
       "<style scoped>\n",
       "    .dataframe tbody tr th:only-of-type {\n",
       "        vertical-align: middle;\n",
       "    }\n",
       "\n",
       "    .dataframe tbody tr th {\n",
       "        vertical-align: top;\n",
       "    }\n",
       "\n",
       "    .dataframe thead th {\n",
       "        text-align: right;\n",
       "    }\n",
       "</style>\n",
       "<table border=\"1\" class=\"dataframe\">\n",
       "  <thead>\n",
       "    <tr style=\"text-align: right;\">\n",
       "      <th></th>\n",
       "      <th>method</th>\n",
       "      <th>count</th>\n",
       "    </tr>\n",
       "  </thead>\n",
       "  <tbody>\n",
       "    <tr>\n",
       "      <th>0</th>\n",
       "      <td>GET</td>\n",
       "      <td>38877</td>\n",
       "    </tr>\n",
       "    <tr>\n",
       "      <th>1</th>\n",
       "      <td>PUT</td>\n",
       "      <td>489128</td>\n",
       "    </tr>\n",
       "  </tbody>\n",
       "</table>\n",
       "</div>"
      ],
      "text/plain": [
       "  method   count\n",
       "0    GET   38877\n",
       "1    PUT  489128"
      ]
     },
     "execution_count": 26,
     "metadata": {},
     "output_type": "execute_result"
    }
   ],
   "source": [
    "# Possible status\n",
    "df_churn.groupby('method').count().sort('count').toPandas()"
   ]
  },
  {
   "cell_type": "markdown",
   "metadata": {},
   "source": [
    "### Auth\n",
    "Let's look into authentication. It seems like there are only 2 possibilities; \"Cancelled\" or \"Logged in\"."
   ]
  },
  {
   "cell_type": "code",
   "execution_count": 27,
   "metadata": {},
   "outputs": [
    {
     "data": {
      "text/html": [
       "<div>\n",
       "<style scoped>\n",
       "    .dataframe tbody tr th:only-of-type {\n",
       "        vertical-align: middle;\n",
       "    }\n",
       "\n",
       "    .dataframe tbody tr th {\n",
       "        vertical-align: top;\n",
       "    }\n",
       "\n",
       "    .dataframe thead th {\n",
       "        text-align: right;\n",
       "    }\n",
       "</style>\n",
       "<table border=\"1\" class=\"dataframe\">\n",
       "  <thead>\n",
       "    <tr style=\"text-align: right;\">\n",
       "      <th></th>\n",
       "      <th>auth</th>\n",
       "      <th>count</th>\n",
       "    </tr>\n",
       "  </thead>\n",
       "  <tbody>\n",
       "    <tr>\n",
       "      <th>0</th>\n",
       "      <td>Cancelled</td>\n",
       "      <td>99</td>\n",
       "    </tr>\n",
       "    <tr>\n",
       "      <th>1</th>\n",
       "      <td>Logged In</td>\n",
       "      <td>527906</td>\n",
       "    </tr>\n",
       "  </tbody>\n",
       "</table>\n",
       "</div>"
      ],
      "text/plain": [
       "        auth   count\n",
       "0  Cancelled      99\n",
       "1  Logged In  527906"
      ]
     },
     "execution_count": 27,
     "metadata": {},
     "output_type": "execute_result"
    }
   ],
   "source": [
    "df_churn.groupby('auth').count().sort('count').toPandas()"
   ]
  },
  {
   "cell_type": "code",
   "execution_count": 28,
   "metadata": {},
   "outputs": [
    {
     "data": {
      "text/plain": [
       "99"
      ]
     },
     "execution_count": 28,
     "metadata": {},
     "output_type": "execute_result"
    }
   ],
   "source": [
    "df_churn.select('userId','auth','churn').filter(df_churn.auth == 'Cancelled').dropDuplicates(['userId']).count()"
   ]
  },
  {
   "cell_type": "markdown",
   "metadata": {},
   "source": [
    "It appears that users who churned are marked as \"Cancelled\" and users who have not churened are marked as \"Logged in\", so this does not add any value to our analysis."
   ]
  },
  {
   "cell_type": "markdown",
   "metadata": {},
   "source": [
    "# Feature Engineering\n",
    "Once you've familiarized yourself with the data, build out the features you find promising to train your model on. To work with the full dataset, you can follow the following steps.\n",
    "- Write a script to extract the necessary features from the smaller subset of data\n",
    "- Ensure that your script is scalable, using the best practices discussed in Lesson 3\n",
    "- Try your script on the full data set, debugging your script if necessary\n",
    "\n",
    "If you are working in the classroom workspace, you can just extract features based on the small subset of data contained here. Be sure to transfer over this work to the larger dataset when you work on your Spark cluster."
   ]
  },
  {
   "cell_type": "markdown",
   "metadata": {},
   "source": [
    "## Features to be used\n",
    "\n",
    "We are going to use the below features:\n",
    "\n",
    "1. <b>Gender</b>: General demographic information about the user\n",
    "2. <b>Number of page not found (how many times successful or unsuccessful)</b>: This may indicate service level of the app\n",
    "3. <b>Number of thumbs up / down</b>: This feature tells whether users like / dislike music content\n",
    "4. <b>Number of Add to Playlist</b>: This feature also tells whether users like  / dislike music content\n",
    "5. <b>Number of page visit (exclude Cancel Confirmation)</b>: This features tells how users are engaged in the service\n",
    "6. <b>Average Hour of page visit in a day</b>: This feature captures some behavioral pattern of users"
   ]
  },
  {
   "cell_type": "markdown",
   "metadata": {},
   "source": [
    "### 1. Gender Feature"
   ]
  },
  {
   "cell_type": "code",
   "execution_count": 29,
   "metadata": {},
   "outputs": [
    {
     "name": "stdout",
     "output_type": "stream",
     "text": [
      "+------+------+\n",
      "|userId|gender|\n",
      "+------+------+\n",
      "|100010|     1|\n",
      "|200002|     0|\n",
      "|   296|     1|\n",
      "|   125|     0|\n",
      "|   124|     1|\n",
      "|    51|     0|\n",
      "|     7|     0|\n",
      "|200037|     0|\n",
      "|   169|     0|\n",
      "|   205|     1|\n",
      "+------+------+\n",
      "only showing top 10 rows\n",
      "\n"
     ]
    }
   ],
   "source": [
    "feat_gender = df_churn.dropDuplicates(['userId']).select(\"userId\", \"gender\").replace(['M', 'F'], ['0', '1'], 'gender')\n",
    "feat_gender = feat_gender.withColumn('gender', feat_gender.gender.cast(\"int\"))\n",
    "\n",
    "feat_gender.show(10)"
   ]
  },
  {
   "cell_type": "markdown",
   "metadata": {},
   "source": [
    "### 2. Count of \"page not found\""
   ]
  },
  {
   "cell_type": "code",
   "execution_count": 30,
   "metadata": {},
   "outputs": [
    {
     "name": "stdout",
     "output_type": "stream",
     "text": [
      "+------+------------------+\n",
      "|userID|num_page_not_found|\n",
      "+------+------------------+\n",
      "|    51|                 2|\n",
      "|   205|                 1|\n",
      "|   232|                 1|\n",
      "|    15|                 1|\n",
      "|   234|                 2|\n",
      "|   282|                 4|\n",
      "|   155|                 1|\n",
      "|   101|                 6|\n",
      "|   279|                 3|\n",
      "|   138|                 1|\n",
      "+------+------------------+\n",
      "only showing top 10 rows\n",
      "\n"
     ]
    }
   ],
   "source": [
    "feat_page_not_found = df_churn \\\n",
    "    .select('userID','status') \\\n",
    "    .where(df_churn.status == '404') \\\n",
    "    .groupBy('userID') \\\n",
    "    .count() \\\n",
    "    .withColumnRenamed('count', 'num_page_not_found') \\\n",
    "\n",
    "feat_page_not_found.show(10)"
   ]
  },
  {
   "cell_type": "markdown",
   "metadata": {},
   "source": [
    "### 3. Number of Thumbs Up / Down"
   ]
  },
  {
   "cell_type": "code",
   "execution_count": 31,
   "metadata": {},
   "outputs": [
    {
     "name": "stdout",
     "output_type": "stream",
     "text": [
      "+------+-------------+\n",
      "|userID|num_thumbs_up|\n",
      "+------+-------------+\n",
      "|   296|            8|\n",
      "|100010|            4|\n",
      "|200002|           15|\n",
      "|   125|            3|\n",
      "|    51|           16|\n",
      "|   124|          102|\n",
      "|     7|           12|\n",
      "|200037|            5|\n",
      "|   205|           50|\n",
      "|   169|            6|\n",
      "+------+-------------+\n",
      "only showing top 10 rows\n",
      "\n",
      "+------+---------------+\n",
      "|userID|num_thumbs_down|\n",
      "+------+---------------+\n",
      "|100010|              3|\n",
      "|200002|              5|\n",
      "|   125|              1|\n",
      "|   124|             15|\n",
      "|    51|              1|\n",
      "|     7|              4|\n",
      "|200037|              3|\n",
      "|   205|             10|\n",
      "|   272|              4|\n",
      "|   282|             29|\n",
      "+------+---------------+\n",
      "only showing top 10 rows\n",
      "\n"
     ]
    }
   ],
   "source": [
    "# Number of Thumbs Up\n",
    "feat_thumbs_up = df_churn \\\n",
    "    .select('userID','page') \\\n",
    "    .where(df_churn.page == 'Thumbs Up') \\\n",
    "    .groupBy('userID') \\\n",
    "    .count() \\\n",
    "    .withColumnRenamed('count', 'num_thumbs_up')\n",
    "\n",
    "feat_thumbs_up.show(10)\n",
    "\n",
    "# Number of Thumbs Down\n",
    "feat_thumbs_down = df_churn \\\n",
    "    .select('userID','page') \\\n",
    "    .where(df_churn.page == 'Thumbs Down') \\\n",
    "    .groupBy('userID') \\\n",
    "    .count() \\\n",
    "    .withColumnRenamed('count', 'num_thumbs_down')\n",
    "\n",
    "feat_thumbs_down.show(10)"
   ]
  },
  {
   "cell_type": "markdown",
   "metadata": {},
   "source": [
    "### 4. Number of Add to Playlist"
   ]
  },
  {
   "cell_type": "code",
   "execution_count": 32,
   "metadata": {},
   "outputs": [
    {
     "name": "stdout",
     "output_type": "stream",
     "text": [
      "+------+-------------------+\n",
      "|userID|num_add_to_playlist|\n",
      "+------+-------------------+\n",
      "|   296|                  3|\n",
      "|100010|                  1|\n",
      "|200002|                  6|\n",
      "|   125|                  2|\n",
      "|    51|                  8|\n",
      "|   124|                 45|\n",
      "|     7|                  6|\n",
      "|200037|                  4|\n",
      "|   205|                 25|\n",
      "|   272|                  3|\n",
      "+------+-------------------+\n",
      "only showing top 10 rows\n",
      "\n"
     ]
    }
   ],
   "source": [
    "# Number of Thumbs Up\n",
    "feat_playlist = df_churn \\\n",
    "    .select('userID','page') \\\n",
    "    .where(df_churn.page == 'Add to Playlist') \\\n",
    "    .groupBy('userID') \\\n",
    "    .count() \\\n",
    "    .withColumnRenamed('count', 'num_add_to_playlist')\n",
    "\n",
    "feat_playlist.show(10)"
   ]
  },
  {
   "cell_type": "markdown",
   "metadata": {},
   "source": [
    "### 5. Total Number of Page Visits (exclude Cancellation Confirmation)"
   ]
  },
  {
   "cell_type": "code",
   "execution_count": 33,
   "metadata": {},
   "outputs": [
    {
     "name": "stdout",
     "output_type": "stream",
     "text": [
      "+------+--------------+\n",
      "|userId|num_page_visit|\n",
      "+------+--------------+\n",
      "|   296|           151|\n",
      "|100010|           136|\n",
      "|200002|           394|\n",
      "|   125|            84|\n",
      "|    51|           327|\n",
      "|   124|          2155|\n",
      "|     7|           600|\n",
      "|200037|           154|\n",
      "|   169|           149|\n",
      "|   205|          1244|\n",
      "+------+--------------+\n",
      "only showing top 10 rows\n",
      "\n"
     ]
    }
   ],
   "source": [
    "feat_num_page_visit = df_churn \\\n",
    "    .select('userId','page') \\\n",
    "    .filter(df_churn.page != 'Cancellation Confirmation') \\\n",
    "    .groupby('userId') \\\n",
    "    .count() \\\n",
    "    .withColumnRenamed('count', 'num_page_visit')\n",
    "\n",
    "feat_num_page_visit.show(10)"
   ]
  },
  {
   "cell_type": "markdown",
   "metadata": {},
   "source": [
    "### 6. Average Hour of Page Visit"
   ]
  },
  {
   "cell_type": "code",
   "execution_count": 34,
   "metadata": {},
   "outputs": [],
   "source": [
    "get_hour = udf(lambda x: datetime.datetime.fromtimestamp(x / 1000.0). hour)"
   ]
  },
  {
   "cell_type": "code",
   "execution_count": 35,
   "metadata": {},
   "outputs": [
    {
     "name": "stdout",
     "output_type": "stream",
     "text": [
      "+------+-------------------+\n",
      "|userId|avg_hour_page_visit|\n",
      "+------+-------------------+\n",
      "|   296|  13.31578947368421|\n",
      "|100010|  9.817518248175183|\n",
      "|200002| 12.805063291139241|\n",
      "|   125| 14.916666666666666|\n",
      "|    51|  9.271341463414634|\n",
      "|   124| 13.108534322820038|\n",
      "|     7| 10.933333333333334|\n",
      "|200037|  8.735483870967743|\n",
      "|   169|  15.51006711409396|\n",
      "|   205| 11.805466237942122|\n",
      "+------+-------------------+\n",
      "only showing top 10 rows\n",
      "\n"
     ]
    }
   ],
   "source": [
    "feat_avg_hour = df_churn \\\n",
    "    .withColumn(\"hour\", get_hour(df.ts).cast(IntegerType())) \\\n",
    "    .groupby('userId') \\\n",
    "    .avg('hour') \\\n",
    "    .withColumnRenamed('avg(hour)', 'avg_hour_page_visit')\n",
    "\n",
    "feat_avg_hour.show(10)"
   ]
  },
  {
   "cell_type": "markdown",
   "metadata": {},
   "source": [
    "### Label\n",
    "Finally, create the ground truth label whether users have churned or not."
   ]
  },
  {
   "cell_type": "code",
   "execution_count": 36,
   "metadata": {},
   "outputs": [
    {
     "name": "stdout",
     "output_type": "stream",
     "text": [
      "+------+-----+\n",
      "|userId|label|\n",
      "+------+-----+\n",
      "|100010|    1|\n",
      "|200002|    1|\n",
      "|   296|    1|\n",
      "|   125|    0|\n",
      "|   124|    1|\n",
      "|    51|    1|\n",
      "|     7|    0|\n",
      "|200037|    1|\n",
      "|   169|    0|\n",
      "|   205|    0|\n",
      "|   272|    0|\n",
      "|    15|    0|\n",
      "|   232|    0|\n",
      "|   234|    1|\n",
      "|   282|    0|\n",
      "|    54|    1|\n",
      "|   155|    0|\n",
      "|200043|    0|\n",
      "|100014|    1|\n",
      "|   132|    1|\n",
      "+------+-----+\n",
      "only showing top 20 rows\n",
      "\n"
     ]
    }
   ],
   "source": [
    "churn_label = df_churn.select('userId', 'churn').dropDuplicates(['userId'])\n",
    "churn_label = churn_label.withColumnRenamed('churn', 'label')\n",
    "\n",
    "churn_label.show()"
   ]
  },
  {
   "cell_type": "markdown",
   "metadata": {},
   "source": [
    "### Combine all the features to create a data matrix\n",
    "Finally, let's combine all the features (as well as the \"label\") to create a big data matrix. We then:\n",
    "\n",
    "1. Create a set of features using VectorAssembler\n",
    "2. Scale the data so that we can feed them into machine learning algorithm."
   ]
  },
  {
   "cell_type": "code",
   "execution_count": 37,
   "metadata": {},
   "outputs": [
    {
     "name": "stdout",
     "output_type": "stream",
     "text": [
      "+------+------------------+-------------+---------------+-------------------+--------------+-------------------+-----+\n",
      "|gender|num_page_not_found|num_thumbs_up|num_thumbs_down|num_add_to_playlist|num_page_visit|avg_hour_page_visit|label|\n",
      "+------+------------------+-------------+---------------+-------------------+--------------+-------------------+-----+\n",
      "|     1|                 0|            4|              3|                  1|           136|  9.817518248175183|    1|\n",
      "|     0|                 0|           15|              5|                  6|           394| 12.805063291139241|    1|\n",
      "|     1|                 0|            8|              0|                  3|           151|  13.31578947368421|    1|\n",
      "|     0|                 0|            3|              1|                  2|            84| 14.916666666666666|    0|\n",
      "|     1|                 0|          102|             15|                 45|          2155| 13.108534322820038|    1|\n",
      "|     0|                 2|           16|              1|                  8|           327|  9.271341463414634|    1|\n",
      "|     0|                 0|           12|              4|                  6|           600| 10.933333333333334|    0|\n",
      "|     0|                 0|            5|              3|                  4|           154|  8.735483870967743|    1|\n",
      "|     0|                 0|            6|              0|                  0|           149|  15.51006711409396|    0|\n",
      "|     1|                 1|           50|             10|                 25|          1244| 11.805466237942122|    0|\n",
      "+------+------------------+-------------+---------------+-------------------+--------------+-------------------+-----+\n",
      "only showing top 10 rows\n",
      "\n"
     ]
    }
   ],
   "source": [
    "# Construct the data matrix from all the features and label\n",
    "data = feat_gender.join(feat_page_not_found,'userID','outer') \\\n",
    "    .join(feat_thumbs_up,'userID','outer') \\\n",
    "    .join(feat_thumbs_down,'userID','outer') \\\n",
    "    .join(feat_playlist,'userID','outer') \\\n",
    "    .join(feat_num_page_visit,'userID','outer') \\\n",
    "    .join(feat_avg_hour,'userID','outer') \\\n",
    "    .join(churn_label,'userID','outer') \\\n",
    "    .drop('userID') \\\n",
    "    .fillna(0)\n",
    "\n",
    "data.show(10)"
   ]
  },
  {
   "cell_type": "code",
   "execution_count": 38,
   "metadata": {},
   "outputs": [],
   "source": [
    "# Create features using VectorAssembler\n",
    "cols = ['gender', \n",
    "        'num_page_not_found',\n",
    "        'num_thumbs_up',\n",
    "        'num_thumbs_down',\n",
    "        'num_add_to_playlist',\n",
    "        'num_page_visit',\n",
    "        'avg_hour_page_visit'\n",
    "       ]\n",
    "\n",
    "assembler = VectorAssembler(inputCols=cols, outputCol=\"NumFeatures\")\n",
    "data = assembler.transform(data)"
   ]
  },
  {
   "cell_type": "code",
   "execution_count": 39,
   "metadata": {},
   "outputs": [],
   "source": [
    "# Scale the values with StandardScaler\n",
    "SC = StandardScaler(inputCol=\"NumFeatures\", outputCol=\"features\", withStd=True)\n",
    "scalerModel = SC.fit(data)\n",
    "data = scalerModel.transform(data)"
   ]
  },
  {
   "cell_type": "markdown",
   "metadata": {},
   "source": [
    "# Modeling\n",
    "Split the full dataset into train, test, and validation sets. Test out several of the machine learning methods you learned. Evaluate the accuracy of the various models, tuning parameters as necessary. Determine your winning model based on test accuracy and report results on the validation set. Since the churned users are a fairly small subset, I suggest using F1 score as the metric to optimize."
   ]
  },
  {
   "cell_type": "markdown",
   "metadata": {},
   "source": [
    "We are going to try the following 3 models:\n",
    "\n",
    "- Logistic Regression\n",
    "- Random Forest\n",
    "- Gradient Boosted Trees\n",
    "\n",
    "F1 score is use as a metric to optimize and hyperparameters are tuned during the process."
   ]
  },
  {
   "cell_type": "code",
   "execution_count": 40,
   "metadata": {},
   "outputs": [],
   "source": [
    "# train test split\n",
    "train, test = data.randomSplit([0.8, 0.2], seed=42)"
   ]
  },
  {
   "cell_type": "markdown",
   "metadata": {},
   "source": [
    "### Logistic Regression"
   ]
  },
  {
   "cell_type": "code",
   "execution_count": 45,
   "metadata": {},
   "outputs": [],
   "source": [
    "# initialize classifier\n",
    "lr = LogisticRegression(maxIter=10)\n",
    "\n",
    "# set evaluator\n",
    "f1_evaluator = MulticlassClassificationEvaluator(metricName='f1')\n",
    "\n",
    "# build paramGrid\n",
    "paramGrid = ParamGridBuilder() \\\n",
    "    .addGrid(lr.regParam, [0.01, 0.05, 0.1]) \\\n",
    "    .build()\n",
    "\n",
    "crossval_lr = CrossValidator(estimator=lr,\n",
    "                          evaluator=f1_evaluator, \n",
    "                          estimatorParamMaps=paramGrid,\n",
    "                          numFolds=3)"
   ]
  },
  {
   "cell_type": "code",
   "execution_count": 46,
   "metadata": {},
   "outputs": [
    {
     "data": {
      "text/plain": [
       "[0.7087559159054644, 0.6901217401217401, 0.6901217401217401]"
      ]
     },
     "execution_count": 46,
     "metadata": {},
     "output_type": "execute_result"
    }
   ],
   "source": [
    "cvModel_lr = crossval_lr.fit(train)\n",
    "cvModel_lr.avgMetrics"
   ]
  },
  {
   "cell_type": "markdown",
   "metadata": {},
   "source": [
    "### Random Forest"
   ]
  },
  {
   "cell_type": "code",
   "execution_count": 49,
   "metadata": {},
   "outputs": [],
   "source": [
    "# initialize classifier\n",
    "rf = RandomForestClassifier(seed=42)\n",
    "\n",
    "# set evaluator\n",
    "f1_evaluator = MulticlassClassificationEvaluator(metricName='f1')\n",
    "\n",
    "# build paramGrid\n",
    "paramGrid = ParamGridBuilder() \\\n",
    "    .addGrid(rf.numTrees, [5, 10, 50]) \\\n",
    "    .build()\n",
    "\n",
    "crossval_rf = CrossValidator(estimator=rf,\n",
    "                          evaluator=f1_evaluator, \n",
    "                          estimatorParamMaps=paramGrid,\n",
    "                          numFolds=3)"
   ]
  },
  {
   "cell_type": "code",
   "execution_count": 50,
   "metadata": {},
   "outputs": [
    {
     "data": {
      "text/plain": [
       "[0.7099315302603657, 0.718697466271799, 0.688413886216084]"
      ]
     },
     "execution_count": 50,
     "metadata": {},
     "output_type": "execute_result"
    }
   ],
   "source": [
    "cvModel_rf = crossval_rf.fit(train)\n",
    "cvModel_rf.avgMetrics"
   ]
  },
  {
   "cell_type": "markdown",
   "metadata": {},
   "source": [
    "### Gradient Boosted Trees"
   ]
  },
  {
   "cell_type": "code",
   "execution_count": 52,
   "metadata": {},
   "outputs": [],
   "source": [
    "# initialize classifier\n",
    "gbt = GBTClassifier(maxIter=10,seed=42)\n",
    "\n",
    "# set evaluator\n",
    "f1_evaluator = MulticlassClassificationEvaluator(metricName='f1')\n",
    "\n",
    "# build paramGrid\n",
    "paramGrid = ParamGridBuilder() \\\n",
    "    .addGrid(gbt.maxIter, [5, 10, 20]) \\\n",
    "    .build()\n",
    "\n",
    "crossval_gbt = CrossValidator(estimator=gbt,\n",
    "                          estimatorParamMaps=paramGrid,\n",
    "                          evaluator=f1_evaluator,\n",
    "                          numFolds=3)"
   ]
  },
  {
   "cell_type": "code",
   "execution_count": 53,
   "metadata": {},
   "outputs": [
    {
     "data": {
      "text/plain": [
       "[0.6575118236762124, 0.6739521179864961, 0.6689219294955022]"
      ]
     },
     "execution_count": 53,
     "metadata": {},
     "output_type": "execute_result"
    }
   ],
   "source": [
    "cvModel_gbt = crossval_gbt.fit(train)\n",
    "cvModel_gbt.avgMetrics"
   ]
  },
  {
   "cell_type": "markdown",
   "metadata": {},
   "source": [
    "After the hyperparameter tuning of both models, we see that:\n",
    "\n",
    "- Logistic Regression has the best F1 score of 0.708 with regParam=5\n",
    "- Random Foresst has the best F1 score of 0.718 with numTrees=10\n",
    "- Gradient Boosted Trees has the best F1 score of 0.67 with maxIter=10\n",
    "\n",
    "Based on this result, we creat the \"best\" model and test the final result on the test set."
   ]
  },
  {
   "cell_type": "markdown",
   "metadata": {},
   "source": [
    "### Best Model and performance on test set"
   ]
  },
  {
   "cell_type": "code",
   "execution_count": 54,
   "metadata": {},
   "outputs": [],
   "source": [
    "best_rf = RandomForestClassifier(numTrees=10)"
   ]
  },
  {
   "cell_type": "code",
   "execution_count": 55,
   "metadata": {},
   "outputs": [],
   "source": [
    "best_model = best_rf.fit(train)"
   ]
  },
  {
   "cell_type": "code",
   "execution_count": 56,
   "metadata": {},
   "outputs": [
    {
     "name": "stdout",
     "output_type": "stream",
     "text": [
      "Accuracy: 0.7833333333333333\n",
      "F-1 Score:0.7228885893980234\n"
     ]
    }
   ],
   "source": [
    "results = best_model.transform(test)\n",
    "evaluator = MulticlassClassificationEvaluator(predictionCol=\"prediction\")\n",
    "print('Accuracy: {}'.format(evaluator.evaluate(results, {evaluator.metricName: \"accuracy\"})))\n",
    "print('F-1 Score:{}'.format(evaluator.evaluate(results, {evaluator.metricName: \"f1\"})))"
   ]
  },
  {
   "cell_type": "markdown",
   "metadata": {},
   "source": [
    "# Final Steps\n",
    "Clean up your code, adding comments and renaming variables to make the code easier to read and maintain. Refer to the Spark Project Overview page and Data Scientist Capstone Project Rubric to make sure you are including all components of the capstone project and meet all expectations. Remember, this includes thorough documentation in a README file in a Github repository, as well as a web app or blog post."
   ]
  },
  {
   "cell_type": "code",
   "execution_count": null,
   "metadata": {},
   "outputs": [],
   "source": []
  }
 ],
 "metadata": {
  "kernelspec": {
   "display_name": "Python 3",
   "language": "python",
   "name": "python3"
  },
  "language_info": {
   "codemirror_mode": {
    "name": "ipython",
    "version": 3
   },
   "file_extension": ".py",
   "mimetype": "text/x-python",
   "name": "python",
   "nbconvert_exporter": "python",
   "pygments_lexer": "ipython3",
   "version": "3.6.3"
  }
 },
 "nbformat": 4,
 "nbformat_minor": 2
}
