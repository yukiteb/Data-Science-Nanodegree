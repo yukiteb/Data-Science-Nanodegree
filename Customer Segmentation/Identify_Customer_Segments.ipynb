{
 "cells": [
  {
   "cell_type": "markdown",
   "metadata": {},
   "source": [
    "# Project: Identify Customer Segments\n",
    "\n",
    "In this project, you will apply unsupervised learning techniques to identify segments of the population that form the core customer base for a mail-order sales company in Germany. These segments can then be used to direct marketing campaigns towards audiences that will have the highest expected rate of returns. The data that you will use has been provided by our partners at Bertelsmann Arvato Analytics, and represents a real-life data science task.\n",
    "\n",
    "This notebook will help you complete this task by providing a framework within which you will perform your analysis steps. In each step of the project, you will see some text describing the subtask that you will perform, followed by one or more code cells for you to complete your work. **Feel free to add additional code and markdown cells as you go along so that you can explore everything in precise chunks.** The code cells provided in the base template will outline only the major tasks, and will usually not be enough to cover all of the minor tasks that comprise it.\n",
    "\n",
    "It should be noted that while there will be precise guidelines on how you should handle certain tasks in the project, there will also be places where an exact specification is not provided. **There will be times in the project where you will need to make and justify your own decisions on how to treat the data.** These are places where there may not be only one way to handle the data. In real-life tasks, there may be many valid ways to approach an analysis task. One of the most important things you can do is clearly document your approach so that other scientists can understand the decisions you've made.\n",
    "\n",
    "At the end of most sections, there will be a Markdown cell labeled **Discussion**. In these cells, you will report your findings for the completed section, as well as document the decisions that you made in your approach to each subtask. **Your project will be evaluated not just on the code used to complete the tasks outlined, but also your communication about your observations and conclusions at each stage.**"
   ]
  },
  {
   "cell_type": "code",
   "execution_count": 136,
   "metadata": {},
   "outputs": [],
   "source": [
    "# import libraries here; add more as necessary\n",
    "import numpy as np\n",
    "import pandas as pd\n",
    "import matplotlib.pyplot as plt\n",
    "import seaborn as sns\n",
    "from sklearn.preprocessing import StandardScaler, Imputer\n",
    "from sklearn.decomposition import PCA\n",
    "from sklearn.cluster import KMeans\n",
    "\n",
    "# magic word for producing visualizations in notebook\n",
    "%matplotlib inline"
   ]
  },
  {
   "cell_type": "markdown",
   "metadata": {},
   "source": [
    "\n",
    "### Step 0: Load the Data\n",
    "\n",
    "There are four files associated with this project (not including this one):\n",
    "\n",
    "- `Udacity_AZDIAS_Subset.csv`: Demographics data for the general population of Germany; 891211 persons (rows) x 85 features (columns).\n",
    "- `Udacity_CUSTOMERS_Subset.csv`: Demographics data for customers of a mail-order company; 191652 persons (rows) x 85 features (columns).\n",
    "- `Data_Dictionary.md`: Detailed information file about the features in the provided datasets.\n",
    "- `AZDIAS_Feature_Summary.csv`: Summary of feature attributes for demographics data; 85 features (rows) x 4 columns\n",
    "\n",
    "Each row of the demographics files represents a single person, but also includes information outside of individuals, including information about their household, building, and neighborhood. You will use this information to cluster the general population into groups with similar demographic properties. Then, you will see how the people in the customers dataset fit into those created clusters. The hope here is that certain clusters are over-represented in the customers data, as compared to the general population; those over-represented clusters will be assumed to be part of the core userbase. This information can then be used for further applications, such as targeting for a marketing campaign.\n",
    "\n",
    "To start off with, load in the demographics data for the general population into a pandas DataFrame, and do the same for the feature attributes summary. Note for all of the `.csv` data files in this project: they're semicolon (`;`) delimited, so you'll need an additional argument in your [`read_csv()`](https://pandas.pydata.org/pandas-docs/stable/generated/pandas.read_csv.html) call to read in the data properly. Also, considering the size of the main dataset, it may take some time for it to load completely.\n",
    "\n",
    "Once the dataset is loaded, it's recommended that you take a little bit of time just browsing the general structure of the dataset and feature summary file. You'll be getting deep into the innards of the cleaning in the first major step of the project, so gaining some general familiarity can help you get your bearings."
   ]
  },
  {
   "cell_type": "code",
   "execution_count": 137,
   "metadata": {},
   "outputs": [],
   "source": [
    "# Load in the general demographics data.\n",
    "azdias = pd.read_csv('Udacity_AZDIAS_Subset.csv', delimiter=';')\n",
    "\n",
    "# Load in the feature summary file.\n",
    "feat_info = pd.read_csv('AZDIAS_Feature_Summary.csv', delimiter=';')"
   ]
  },
  {
   "cell_type": "code",
   "execution_count": 138,
   "metadata": {},
   "outputs": [
    {
     "name": "stdout",
     "output_type": "stream",
     "text": [
      "<class 'pandas.core.frame.DataFrame'>\n",
      "RangeIndex: 891221 entries, 0 to 891220\n",
      "Data columns (total 85 columns):\n",
      "AGER_TYP                 891221 non-null int64\n",
      "ALTERSKATEGORIE_GROB     891221 non-null int64\n",
      "ANREDE_KZ                891221 non-null int64\n",
      "CJT_GESAMTTYP            886367 non-null float64\n",
      "FINANZ_MINIMALIST        891221 non-null int64\n",
      "FINANZ_SPARER            891221 non-null int64\n",
      "FINANZ_VORSORGER         891221 non-null int64\n",
      "FINANZ_ANLEGER           891221 non-null int64\n",
      "FINANZ_UNAUFFAELLIGER    891221 non-null int64\n",
      "FINANZ_HAUSBAUER         891221 non-null int64\n",
      "FINANZTYP                891221 non-null int64\n",
      "GEBURTSJAHR              891221 non-null int64\n",
      "GFK_URLAUBERTYP          886367 non-null float64\n",
      "GREEN_AVANTGARDE         891221 non-null int64\n",
      "HEALTH_TYP               891221 non-null int64\n",
      "LP_LEBENSPHASE_FEIN      886367 non-null float64\n",
      "LP_LEBENSPHASE_GROB      886367 non-null float64\n",
      "LP_FAMILIE_FEIN          886367 non-null float64\n",
      "LP_FAMILIE_GROB          886367 non-null float64\n",
      "LP_STATUS_FEIN           886367 non-null float64\n",
      "LP_STATUS_GROB           886367 non-null float64\n",
      "NATIONALITAET_KZ         891221 non-null int64\n",
      "PRAEGENDE_JUGENDJAHRE    891221 non-null int64\n",
      "RETOURTYP_BK_S           886367 non-null float64\n",
      "SEMIO_SOZ                891221 non-null int64\n",
      "SEMIO_FAM                891221 non-null int64\n",
      "SEMIO_REL                891221 non-null int64\n",
      "SEMIO_MAT                891221 non-null int64\n",
      "SEMIO_VERT               891221 non-null int64\n",
      "SEMIO_LUST               891221 non-null int64\n",
      "SEMIO_ERL                891221 non-null int64\n",
      "SEMIO_KULT               891221 non-null int64\n",
      "SEMIO_RAT                891221 non-null int64\n",
      "SEMIO_KRIT               891221 non-null int64\n",
      "SEMIO_DOM                891221 non-null int64\n",
      "SEMIO_KAEM               891221 non-null int64\n",
      "SEMIO_PFLICHT            891221 non-null int64\n",
      "SEMIO_TRADV              891221 non-null int64\n",
      "SHOPPER_TYP              891221 non-null int64\n",
      "SOHO_KZ                  817722 non-null float64\n",
      "TITEL_KZ                 817722 non-null float64\n",
      "VERS_TYP                 891221 non-null int64\n",
      "ZABEOTYP                 891221 non-null int64\n",
      "ALTER_HH                 817722 non-null float64\n",
      "ANZ_PERSONEN             817722 non-null float64\n",
      "ANZ_TITEL                817722 non-null float64\n",
      "HH_EINKOMMEN_SCORE       872873 non-null float64\n",
      "KK_KUNDENTYP             306609 non-null float64\n",
      "W_KEIT_KIND_HH           783619 non-null float64\n",
      "WOHNDAUER_2008           817722 non-null float64\n",
      "ANZ_HAUSHALTE_AKTIV      798073 non-null float64\n",
      "ANZ_HH_TITEL             794213 non-null float64\n",
      "GEBAEUDETYP              798073 non-null float64\n",
      "KONSUMNAEHE              817252 non-null float64\n",
      "MIN_GEBAEUDEJAHR         798073 non-null float64\n",
      "OST_WEST_KZ              798073 non-null object\n",
      "WOHNLAGE                 798073 non-null float64\n",
      "CAMEO_DEUG_2015          792242 non-null object\n",
      "CAMEO_DEU_2015           792242 non-null object\n",
      "CAMEO_INTL_2015          792242 non-null object\n",
      "KBA05_ANTG1              757897 non-null float64\n",
      "KBA05_ANTG2              757897 non-null float64\n",
      "KBA05_ANTG3              757897 non-null float64\n",
      "KBA05_ANTG4              757897 non-null float64\n",
      "KBA05_BAUMAX             757897 non-null float64\n",
      "KBA05_GBZ                757897 non-null float64\n",
      "BALLRAUM                 797481 non-null float64\n",
      "EWDICHTE                 797481 non-null float64\n",
      "INNENSTADT               797481 non-null float64\n",
      "GEBAEUDETYP_RASTER       798066 non-null float64\n",
      "KKK                      770025 non-null float64\n",
      "MOBI_REGIO               757897 non-null float64\n",
      "ONLINE_AFFINITAET        886367 non-null float64\n",
      "REGIOTYP                 770025 non-null float64\n",
      "KBA13_ANZAHL_PKW         785421 non-null float64\n",
      "PLZ8_ANTG1               774706 non-null float64\n",
      "PLZ8_ANTG2               774706 non-null float64\n",
      "PLZ8_ANTG3               774706 non-null float64\n",
      "PLZ8_ANTG4               774706 non-null float64\n",
      "PLZ8_BAUMAX              774706 non-null float64\n",
      "PLZ8_HHZ                 774706 non-null float64\n",
      "PLZ8_GBZ                 774706 non-null float64\n",
      "ARBEIT                   794005 non-null float64\n",
      "ORTSGR_KLS9              794005 non-null float64\n",
      "RELAT_AB                 794005 non-null float64\n",
      "dtypes: float64(49), int64(32), object(4)\n",
      "memory usage: 578.0+ MB\n"
     ]
    },
    {
     "data": {
      "text/html": [
       "<div>\n",
       "<style>\n",
       "    .dataframe thead tr:only-child th {\n",
       "        text-align: right;\n",
       "    }\n",
       "\n",
       "    .dataframe thead th {\n",
       "        text-align: left;\n",
       "    }\n",
       "\n",
       "    .dataframe tbody tr th {\n",
       "        vertical-align: top;\n",
       "    }\n",
       "</style>\n",
       "<table border=\"1\" class=\"dataframe\">\n",
       "  <thead>\n",
       "    <tr style=\"text-align: right;\">\n",
       "      <th></th>\n",
       "      <th>attribute</th>\n",
       "      <th>information_level</th>\n",
       "      <th>type</th>\n",
       "      <th>missing_or_unknown</th>\n",
       "    </tr>\n",
       "  </thead>\n",
       "  <tbody>\n",
       "    <tr>\n",
       "      <th>0</th>\n",
       "      <td>AGER_TYP</td>\n",
       "      <td>person</td>\n",
       "      <td>categorical</td>\n",
       "      <td>[-1,0]</td>\n",
       "    </tr>\n",
       "    <tr>\n",
       "      <th>1</th>\n",
       "      <td>ALTERSKATEGORIE_GROB</td>\n",
       "      <td>person</td>\n",
       "      <td>ordinal</td>\n",
       "      <td>[-1,0,9]</td>\n",
       "    </tr>\n",
       "    <tr>\n",
       "      <th>2</th>\n",
       "      <td>ANREDE_KZ</td>\n",
       "      <td>person</td>\n",
       "      <td>categorical</td>\n",
       "      <td>[-1,0]</td>\n",
       "    </tr>\n",
       "    <tr>\n",
       "      <th>3</th>\n",
       "      <td>CJT_GESAMTTYP</td>\n",
       "      <td>person</td>\n",
       "      <td>categorical</td>\n",
       "      <td>[0]</td>\n",
       "    </tr>\n",
       "    <tr>\n",
       "      <th>4</th>\n",
       "      <td>FINANZ_MINIMALIST</td>\n",
       "      <td>person</td>\n",
       "      <td>ordinal</td>\n",
       "      <td>[-1]</td>\n",
       "    </tr>\n",
       "  </tbody>\n",
       "</table>\n",
       "</div>"
      ],
      "text/plain": [
       "              attribute information_level         type missing_or_unknown\n",
       "0              AGER_TYP            person  categorical             [-1,0]\n",
       "1  ALTERSKATEGORIE_GROB            person      ordinal           [-1,0,9]\n",
       "2             ANREDE_KZ            person  categorical             [-1,0]\n",
       "3         CJT_GESAMTTYP            person  categorical                [0]\n",
       "4     FINANZ_MINIMALIST            person      ordinal               [-1]"
      ]
     },
     "execution_count": 138,
     "metadata": {},
     "output_type": "execute_result"
    }
   ],
   "source": [
    "# Check the structure of the data after it's loaded (e.g. print the number of\n",
    "# rows and columns, print the first few rows).\n",
    "azdias.info()\n",
    "feat_info.head()"
   ]
  },
  {
   "cell_type": "markdown",
   "metadata": {},
   "source": [
    "> **Tip**: Add additional cells to keep everything in reasonably-sized chunks! Keyboard shortcut `esc --> a` (press escape to enter command mode, then press the 'A' key) adds a new cell before the active cell, and `esc --> b` adds a new cell after the active cell. If you need to convert an active cell to a markdown cell, use `esc --> m` and to convert to a code cell, use `esc --> y`. \n",
    "\n",
    "## Step 1: Preprocessing\n",
    "\n",
    "### Step 1.1: Assess Missing Data\n",
    "\n",
    "The feature summary file contains a summary of properties for each demographics data column. You will use this file to help you make cleaning decisions during this stage of the project. First of all, you should assess the demographics data in terms of missing data. Pay attention to the following points as you perform your analysis, and take notes on what you observe. Make sure that you fill in the **Discussion** cell with your findings and decisions at the end of each step that has one!\n",
    "\n",
    "#### Step 1.1.1: Convert Missing Value Codes to NaNs\n",
    "The fourth column of the feature attributes summary (loaded in above as `feat_info`) documents the codes from the data dictionary that indicate missing or unknown data. While the file encodes this as a list (e.g. `[-1,0]`), this will get read in as a string object. You'll need to do a little bit of parsing to make use of it to identify and clean the data. Convert data that matches a 'missing' or 'unknown' value code into a numpy NaN value. You might want to see how much data takes on a 'missing' or 'unknown' code, and how much data is naturally missing, as a point of interest.\n",
    "\n",
    "**As one more reminder, you are encouraged to add additional cells to break up your analysis into manageable chunks.**"
   ]
  },
  {
   "cell_type": "code",
   "execution_count": 139,
   "metadata": {},
   "outputs": [
    {
     "name": "stdout",
     "output_type": "stream",
     "text": [
      "[-1, 0]\n",
      "[-1, 0, 9]\n",
      "[0]\n",
      "[-1]\n",
      "[-1, 9]\n",
      "[-1, 'X']\n",
      "['XX']\n",
      "[-1, 'XX']\n"
     ]
    }
   ],
   "source": [
    "# Identify missing or unknown data values and convert them to NaNs.\n",
    "unknown_dict={\n",
    "            '[-1,0]':[-1,0],\n",
    "            '[-1,0,9]':[-1,0,9],\n",
    "            '[0]':[0],\n",
    "            '[-1]':[-1],\n",
    "            '[-1,9]':[-1,9],\n",
    "            '[-1,X]':[-1,'X'],\n",
    "            '[XX]':['XX'],\n",
    "            '[-1,XX]':[-1,'XX']\n",
    "}\n",
    "\n",
    "for key, value in unknown_dict.items():\n",
    "    features = feat_info.loc[feat_info['missing_or_unknown'] == key, 'attribute']\n",
    "    azdias[features.values] = azdias[features.values].replace(value, np.nan)\n",
    "    print(value)"
   ]
  },
  {
   "cell_type": "code",
   "execution_count": 140,
   "metadata": {},
   "outputs": [
    {
     "data": {
      "text/plain": [
       "1.0    1947\n",
       "5.0     104\n",
       "4.0      57\n",
       "3.0      49\n",
       "2.0       3\n",
       "Name: TITEL_KZ, dtype: int64"
      ]
     },
     "execution_count": 140,
     "metadata": {},
     "output_type": "execute_result"
    }
   ],
   "source": [
    "azdias['TITEL_KZ'].value_counts()"
   ]
  },
  {
   "cell_type": "markdown",
   "metadata": {},
   "source": [
    "#### Step 1.1.2: Assess Missing Data in Each Column\n",
    "\n",
    "How much missing data is present in each column? There are a few columns that are outliers in terms of the proportion of values that are missing. You will want to use matplotlib's [`hist()`](https://matplotlib.org/api/_as_gen/matplotlib.pyplot.hist.html) function to visualize the distribution of missing value counts to find these columns. Identify and document these columns. While some of these columns might have justifications for keeping or re-encoding the data, for this project you should just remove them from the dataframe. (Feel free to make remarks about these outlier columns in the discussion, however!)\n",
    "\n",
    "For the remaining features, are there any patterns in which columns have, or share, missing data?"
   ]
  },
  {
   "cell_type": "code",
   "execution_count": 141,
   "metadata": {},
   "outputs": [],
   "source": [
    "# Perform an assessment of how much missing data there is in each column of the\n",
    "# dataset.\n",
    "attributes = feat_info['attribute'].unique()\n",
    "nan_count_list = []\n",
    "for attribute in attributes:\n",
    "    nan_count = azdias[attribute].isnull().sum()\n",
    "    nan_count_list.append(nan_count)\n",
    "\n",
    "#Save the number of NaNs in a new column called 'nan_count' in feat_info\n",
    "feat_info['nan_count'] = pd.Series(nan_count_list)\n"
   ]
  },
  {
   "cell_type": "code",
   "execution_count": 142,
   "metadata": {},
   "outputs": [
    {
     "data": {
      "image/png": "[encoded data removed]",
      "text/plain": [
       "<matplotlib.figure.Figure at 0x7f2dc7a18eb8>"
      ]
     },
     "metadata": {},
     "output_type": "display_data"
    }
   ],
   "source": [
    "#Plot the histogram and look at distribution\n",
    "feat_info['nan_count'].unique()\n",
    "plt.xlabel('% of missing points')\n",
    "plt.ylabel('Feature counts')\n",
    "total_counts = azdias.shape[0]\n",
    "nan_pct = feat_info['nan_count']/total_counts*100\n",
    "plt.hist(nan_pct, bins=50);"
   ]
  },
  {
   "cell_type": "code",
   "execution_count": 143,
   "metadata": {},
   "outputs": [
    {
     "data": {
      "text/html": [
       "<div>\n",
       "<style>\n",
       "    .dataframe thead tr:only-child th {\n",
       "        text-align: right;\n",
       "    }\n",
       "\n",
       "    .dataframe thead th {\n",
       "        text-align: left;\n",
       "    }\n",
       "\n",
       "    .dataframe tbody tr th {\n",
       "        vertical-align: top;\n",
       "    }\n",
       "</style>\n",
       "<table border=\"1\" class=\"dataframe\">\n",
       "  <thead>\n",
       "    <tr style=\"text-align: right;\">\n",
       "      <th></th>\n",
       "      <th>attribute</th>\n",
       "      <th>information_level</th>\n",
       "      <th>type</th>\n",
       "      <th>missing_or_unknown</th>\n",
       "      <th>nan_count</th>\n",
       "    </tr>\n",
       "  </thead>\n",
       "  <tbody>\n",
       "    <tr>\n",
       "      <th>0</th>\n",
       "      <td>AGER_TYP</td>\n",
       "      <td>person</td>\n",
       "      <td>categorical</td>\n",
       "      <td>[-1,0]</td>\n",
       "      <td>685843</td>\n",
       "    </tr>\n",
       "    <tr>\n",
       "      <th>11</th>\n",
       "      <td>GEBURTSJAHR</td>\n",
       "      <td>person</td>\n",
       "      <td>numeric</td>\n",
       "      <td>[0]</td>\n",
       "      <td>392318</td>\n",
       "    </tr>\n",
       "    <tr>\n",
       "      <th>40</th>\n",
       "      <td>TITEL_KZ</td>\n",
       "      <td>person</td>\n",
       "      <td>categorical</td>\n",
       "      <td>[-1,0]</td>\n",
       "      <td>889061</td>\n",
       "    </tr>\n",
       "    <tr>\n",
       "      <th>43</th>\n",
       "      <td>ALTER_HH</td>\n",
       "      <td>household</td>\n",
       "      <td>interval</td>\n",
       "      <td>[0]</td>\n",
       "      <td>310267</td>\n",
       "    </tr>\n",
       "    <tr>\n",
       "      <th>47</th>\n",
       "      <td>KK_KUNDENTYP</td>\n",
       "      <td>household</td>\n",
       "      <td>categorical</td>\n",
       "      <td>[-1]</td>\n",
       "      <td>584612</td>\n",
       "    </tr>\n",
       "    <tr>\n",
       "      <th>64</th>\n",
       "      <td>KBA05_BAUMAX</td>\n",
       "      <td>microcell_rr3</td>\n",
       "      <td>mixed</td>\n",
       "      <td>[-1,0]</td>\n",
       "      <td>476524</td>\n",
       "    </tr>\n",
       "  </tbody>\n",
       "</table>\n",
       "</div>"
      ],
      "text/plain": [
       "       attribute information_level         type missing_or_unknown  nan_count\n",
       "0       AGER_TYP            person  categorical             [-1,0]     685843\n",
       "11   GEBURTSJAHR            person      numeric                [0]     392318\n",
       "40      TITEL_KZ            person  categorical             [-1,0]     889061\n",
       "43      ALTER_HH         household     interval                [0]     310267\n",
       "47  KK_KUNDENTYP         household  categorical               [-1]     584612\n",
       "64  KBA05_BAUMAX     microcell_rr3        mixed             [-1,0]     476524"
      ]
     },
     "execution_count": 143,
     "metadata": {},
     "output_type": "execute_result"
    }
   ],
   "source": [
    "# Investigate patterns in the amount of missing data in each column.\n",
    "\n",
    "#Outliers\n",
    "feat_info[(feat_info['nan_count']/total_counts)>0.2]"
   ]
  },
  {
   "cell_type": "code",
   "execution_count": 144,
   "metadata": {},
   "outputs": [
    {
     "name": "stdout",
     "output_type": "stream",
     "text": [
      "['AGER_TYP' 'GEBURTSJAHR' 'TITEL_KZ' 'ALTER_HH' 'KK_KUNDENTYP'\n",
      " 'KBA05_BAUMAX']\n",
      "Int64Index([0, 11, 40, 43, 47, 64], dtype='int64')\n"
     ]
    }
   ],
   "source": [
    "# Remove the outlier columns from the dataset. (You'll perform other data\n",
    "# engineering tasks such as re-encoding and imputation later.)\n",
    "threshold = 0.2\n",
    "\n",
    "#Determine the column with NaN counts of more than threshold \n",
    "drop_col = feat_info.loc[feat_info['nan_count']/total_counts > threshold, 'attribute'].values\n",
    "\n",
    "#Print the column name\n",
    "print(drop_col)\n",
    "print(feat_info[feat_info['attribute'].isin(drop_col)].index)\n",
    "\n",
    "#Drop the columns\n",
    "azdias.drop(drop_col, axis=1, inplace=True)\n",
    "\n",
    "#Drop the rows from feature summary\n",
    "feat_info.drop(feat_info[feat_info['attribute'].isin(drop_col)].index,axis=0, inplace=True)"
   ]
  },
  {
   "cell_type": "code",
   "execution_count": 145,
   "metadata": {},
   "outputs": [
    {
     "data": {
      "text/plain": [
       "(891221, 79)"
      ]
     },
     "execution_count": 145,
     "metadata": {},
     "output_type": "execute_result"
    }
   ],
   "source": [
    "#Check the size of the azdias. Num columns decreased from 85 to 82.\n",
    "azdias.shape"
   ]
  },
  {
   "cell_type": "markdown",
   "metadata": {},
   "source": [
    "#### Discussion 1.1.2: Assess Missing Data in Each Column\n",
    "\n",
    "There are 85 columns in the data set. Around half of the columns have no missing value. The column 'AGER_TYP','GEBURTSJAHR' 'TITEL_KZ','ALTER_HH', 'KK_KUNDENTYP' and 'KBA05_BAUMAX'' are outliers, which have more than 20% missing and these columns have been dropped."
   ]
  },
  {
   "cell_type": "markdown",
   "metadata": {},
   "source": [
    "#### Step 1.1.3: Assess Missing Data in Each Row\n",
    "\n",
    "Now, you'll perform a similar assessment for the rows of the dataset. How much data is missing in each row? As with the columns, you should see some groups of points that have a very different numbers of missing values. Divide the data into two subsets: one for data points that are above some threshold for missing values, and a second subset for points below that threshold.\n",
    "\n",
    "In order to know what to do with the outlier rows, we should see if the distribution of data values on columns that are not missing data (or are missing very little data) are similar or different between the two groups. Select at least five of these columns and compare the distribution of values.\n",
    "- You can use seaborn's [`countplot()`](https://seaborn.pydata.org/generated/seaborn.countplot.html) function to create a bar chart of code frequencies and matplotlib's [`subplot()`](https://matplotlib.org/api/_as_gen/matplotlib.pyplot.subplot.html) function to put bar charts for the two subplots side by side.\n",
    "- To reduce repeated code, you might want to write a function that can perform this comparison, taking as one of its arguments a column to be compared.\n",
    "\n",
    "Depending on what you observe in your comparison, this will have implications on how you approach your conclusions later in the analysis. If the distributions of non-missing features look similar between the data with many missing values and the data with few or no missing values, then we could argue that simply dropping those points from the analysis won't present a major issue. On the other hand, if the data with many missing values looks very different from the data with few or no missing values, then we should make a note on those data as special. Make sure you report your observations in the discussion section. **Either way, you should continue your analysis below using just the subset of the data with few or no missing values.**"
   ]
  },
  {
   "cell_type": "code",
   "execution_count": 146,
   "metadata": {},
   "outputs": [
    {
     "data": {
      "image/png": "[encoded data removed]",
      "text/plain": [
       "<matplotlib.figure.Figure at 0x7f2df39acf60>"
      ]
     },
     "metadata": {},
     "output_type": "display_data"
    }
   ],
   "source": [
    "# How much data is missing in each row of the dataset?\n",
    "\n",
    "#Save the number of missing counts in each row\n",
    "azdias['nan_count'] = pd.Series(azdias.isnull().sum(axis=1))\n",
    "\n",
    "#Draw a histogram\n",
    "plt.xlabel('% of missing attributes')\n",
    "plt.ylabel('Sample counts')\n",
    "plt.hist(azdias['nan_count'], bins=50);\n"
   ]
  },
  {
   "cell_type": "markdown",
   "metadata": {},
   "source": [
    "It appears that there are some outliers which contain more than 30 missing attributes. We can comfortably remove these entries, but there are some portions of data which contain 10-20 missing attributes. Should these data be dropped as well? At this point, it is not certain where the cutoff point should be. To see this more graphically, let us plot cutoff points vs percentage of total data preserved. We would like to drop data with many missing points, but at the same time, dropping too many samples lead to loss of information, which is not desirable."
   ]
  },
  {
   "cell_type": "code",
   "execution_count": 147,
   "metadata": {},
   "outputs": [
    {
     "data": {
      "image/png": "[encoded data removed]",
      "text/plain": [
       "<matplotlib.figure.Figure at 0x7f2df3a270b8>"
      ]
     },
     "metadata": {},
     "output_type": "display_data"
    }
   ],
   "source": [
    "# Write code to divide the data into two subsets based on the number of missing\n",
    "# values in each row.\n",
    "\n",
    "\n",
    "pct_list = []\n",
    "x_range = range(3,50)\n",
    "for i in x_range:\n",
    "    azdias_few_missing = azdias[azdias['nan_count'] < i]\n",
    "    pct_list.append(azdias_few_missing.shape[0] / azdias.shape[0]*100)\n",
    "\n",
    "plt.xlabel('Cut off point (number of features)')\n",
    "plt.ylabel('% of total data retained')\n",
    "plt.plot(x_range,pct_list)\n",
    "plt.show()"
   ]
  },
  {
   "cell_type": "markdown",
   "metadata": {},
   "source": [
    "From this, we see that even if we drop the entries with more than 12 missing features, we can still retain ~88% of the sample. So let us set the threshold = 20 and divide the data into two: One with 20 or more than missing features, another one with less than 12 missing features."
   ]
  },
  {
   "cell_type": "code",
   "execution_count": 148,
   "metadata": {},
   "outputs": [
    {
     "name": "stdout",
     "output_type": "stream",
     "text": [
      "Data retention: 87.66%\n"
     ]
    }
   ],
   "source": [
    "#From the diagram, it looks like it be can be categorized into 2 groups with threshold ~12.\n",
    "feat_threshold = 12\n",
    "azdias_many_missing = azdias[azdias['nan_count'] >= feat_threshold]\n",
    "azdias_few_missing = azdias[azdias['nan_count'] < feat_threshold]\n",
    "print('Data retention: '+'{:.2%}'.format(azdias_few_missing.shape[0] / azdias.shape[0]))"
   ]
  },
  {
   "cell_type": "code",
   "execution_count": 149,
   "metadata": {},
   "outputs": [
    {
     "data": {
      "text/html": [
       "<div>\n",
       "<style>\n",
       "    .dataframe thead tr:only-child th {\n",
       "        text-align: right;\n",
       "    }\n",
       "\n",
       "    .dataframe thead th {\n",
       "        text-align: left;\n",
       "    }\n",
       "\n",
       "    .dataframe tbody tr th {\n",
       "        vertical-align: top;\n",
       "    }\n",
       "</style>\n",
       "<table border=\"1\" class=\"dataframe\">\n",
       "  <thead>\n",
       "    <tr style=\"text-align: right;\">\n",
       "      <th></th>\n",
       "      <th>attribute</th>\n",
       "      <th>information_level</th>\n",
       "      <th>type</th>\n",
       "      <th>missing_or_unknown</th>\n",
       "      <th>nan_count</th>\n",
       "    </tr>\n",
       "  </thead>\n",
       "  <tbody>\n",
       "    <tr>\n",
       "      <th>2</th>\n",
       "      <td>ANREDE_KZ</td>\n",
       "      <td>person</td>\n",
       "      <td>categorical</td>\n",
       "      <td>[-1,0]</td>\n",
       "      <td>0</td>\n",
       "    </tr>\n",
       "    <tr>\n",
       "      <th>4</th>\n",
       "      <td>FINANZ_MINIMALIST</td>\n",
       "      <td>person</td>\n",
       "      <td>ordinal</td>\n",
       "      <td>[-1]</td>\n",
       "      <td>0</td>\n",
       "    </tr>\n",
       "    <tr>\n",
       "      <th>5</th>\n",
       "      <td>FINANZ_SPARER</td>\n",
       "      <td>person</td>\n",
       "      <td>ordinal</td>\n",
       "      <td>[-1]</td>\n",
       "      <td>0</td>\n",
       "    </tr>\n",
       "    <tr>\n",
       "      <th>6</th>\n",
       "      <td>FINANZ_VORSORGER</td>\n",
       "      <td>person</td>\n",
       "      <td>ordinal</td>\n",
       "      <td>[-1]</td>\n",
       "      <td>0</td>\n",
       "    </tr>\n",
       "    <tr>\n",
       "      <th>7</th>\n",
       "      <td>FINANZ_ANLEGER</td>\n",
       "      <td>person</td>\n",
       "      <td>ordinal</td>\n",
       "      <td>[-1]</td>\n",
       "      <td>0</td>\n",
       "    </tr>\n",
       "    <tr>\n",
       "      <th>8</th>\n",
       "      <td>FINANZ_UNAUFFAELLIGER</td>\n",
       "      <td>person</td>\n",
       "      <td>ordinal</td>\n",
       "      <td>[-1]</td>\n",
       "      <td>0</td>\n",
       "    </tr>\n",
       "    <tr>\n",
       "      <th>9</th>\n",
       "      <td>FINANZ_HAUSBAUER</td>\n",
       "      <td>person</td>\n",
       "      <td>ordinal</td>\n",
       "      <td>[-1]</td>\n",
       "      <td>0</td>\n",
       "    </tr>\n",
       "    <tr>\n",
       "      <th>10</th>\n",
       "      <td>FINANZTYP</td>\n",
       "      <td>person</td>\n",
       "      <td>categorical</td>\n",
       "      <td>[-1]</td>\n",
       "      <td>0</td>\n",
       "    </tr>\n",
       "    <tr>\n",
       "      <th>13</th>\n",
       "      <td>GREEN_AVANTGARDE</td>\n",
       "      <td>person</td>\n",
       "      <td>categorical</td>\n",
       "      <td>[]</td>\n",
       "      <td>0</td>\n",
       "    </tr>\n",
       "    <tr>\n",
       "      <th>24</th>\n",
       "      <td>SEMIO_SOZ</td>\n",
       "      <td>person</td>\n",
       "      <td>ordinal</td>\n",
       "      <td>[-1,9]</td>\n",
       "      <td>0</td>\n",
       "    </tr>\n",
       "    <tr>\n",
       "      <th>25</th>\n",
       "      <td>SEMIO_FAM</td>\n",
       "      <td>person</td>\n",
       "      <td>ordinal</td>\n",
       "      <td>[-1,9]</td>\n",
       "      <td>0</td>\n",
       "    </tr>\n",
       "    <tr>\n",
       "      <th>26</th>\n",
       "      <td>SEMIO_REL</td>\n",
       "      <td>person</td>\n",
       "      <td>ordinal</td>\n",
       "      <td>[-1,9]</td>\n",
       "      <td>0</td>\n",
       "    </tr>\n",
       "    <tr>\n",
       "      <th>27</th>\n",
       "      <td>SEMIO_MAT</td>\n",
       "      <td>person</td>\n",
       "      <td>ordinal</td>\n",
       "      <td>[-1,9]</td>\n",
       "      <td>0</td>\n",
       "    </tr>\n",
       "    <tr>\n",
       "      <th>28</th>\n",
       "      <td>SEMIO_VERT</td>\n",
       "      <td>person</td>\n",
       "      <td>ordinal</td>\n",
       "      <td>[-1,9]</td>\n",
       "      <td>0</td>\n",
       "    </tr>\n",
       "    <tr>\n",
       "      <th>29</th>\n",
       "      <td>SEMIO_LUST</td>\n",
       "      <td>person</td>\n",
       "      <td>ordinal</td>\n",
       "      <td>[-1,9]</td>\n",
       "      <td>0</td>\n",
       "    </tr>\n",
       "    <tr>\n",
       "      <th>30</th>\n",
       "      <td>SEMIO_ERL</td>\n",
       "      <td>person</td>\n",
       "      <td>ordinal</td>\n",
       "      <td>[-1,9]</td>\n",
       "      <td>0</td>\n",
       "    </tr>\n",
       "    <tr>\n",
       "      <th>31</th>\n",
       "      <td>SEMIO_KULT</td>\n",
       "      <td>person</td>\n",
       "      <td>ordinal</td>\n",
       "      <td>[-1,9]</td>\n",
       "      <td>0</td>\n",
       "    </tr>\n",
       "    <tr>\n",
       "      <th>32</th>\n",
       "      <td>SEMIO_RAT</td>\n",
       "      <td>person</td>\n",
       "      <td>ordinal</td>\n",
       "      <td>[-1,9]</td>\n",
       "      <td>0</td>\n",
       "    </tr>\n",
       "    <tr>\n",
       "      <th>33</th>\n",
       "      <td>SEMIO_KRIT</td>\n",
       "      <td>person</td>\n",
       "      <td>ordinal</td>\n",
       "      <td>[-1,9]</td>\n",
       "      <td>0</td>\n",
       "    </tr>\n",
       "    <tr>\n",
       "      <th>34</th>\n",
       "      <td>SEMIO_DOM</td>\n",
       "      <td>person</td>\n",
       "      <td>ordinal</td>\n",
       "      <td>[-1,9]</td>\n",
       "      <td>0</td>\n",
       "    </tr>\n",
       "    <tr>\n",
       "      <th>35</th>\n",
       "      <td>SEMIO_KAEM</td>\n",
       "      <td>person</td>\n",
       "      <td>ordinal</td>\n",
       "      <td>[-1,9]</td>\n",
       "      <td>0</td>\n",
       "    </tr>\n",
       "    <tr>\n",
       "      <th>36</th>\n",
       "      <td>SEMIO_PFLICHT</td>\n",
       "      <td>person</td>\n",
       "      <td>ordinal</td>\n",
       "      <td>[-1,9]</td>\n",
       "      <td>0</td>\n",
       "    </tr>\n",
       "    <tr>\n",
       "      <th>37</th>\n",
       "      <td>SEMIO_TRADV</td>\n",
       "      <td>person</td>\n",
       "      <td>ordinal</td>\n",
       "      <td>[-1,9]</td>\n",
       "      <td>0</td>\n",
       "    </tr>\n",
       "    <tr>\n",
       "      <th>42</th>\n",
       "      <td>ZABEOTYP</td>\n",
       "      <td>person</td>\n",
       "      <td>categorical</td>\n",
       "      <td>[-1,9]</td>\n",
       "      <td>0</td>\n",
       "    </tr>\n",
       "  </tbody>\n",
       "</table>\n",
       "</div>"
      ],
      "text/plain": [
       "                attribute information_level         type missing_or_unknown  \\\n",
       "2               ANREDE_KZ            person  categorical             [-1,0]   \n",
       "4       FINANZ_MINIMALIST            person      ordinal               [-1]   \n",
       "5           FINANZ_SPARER            person      ordinal               [-1]   \n",
       "6        FINANZ_VORSORGER            person      ordinal               [-1]   \n",
       "7          FINANZ_ANLEGER            person      ordinal               [-1]   \n",
       "8   FINANZ_UNAUFFAELLIGER            person      ordinal               [-1]   \n",
       "9        FINANZ_HAUSBAUER            person      ordinal               [-1]   \n",
       "10              FINANZTYP            person  categorical               [-1]   \n",
       "13       GREEN_AVANTGARDE            person  categorical                 []   \n",
       "24              SEMIO_SOZ            person      ordinal             [-1,9]   \n",
       "25              SEMIO_FAM            person      ordinal             [-1,9]   \n",
       "26              SEMIO_REL            person      ordinal             [-1,9]   \n",
       "27              SEMIO_MAT            person      ordinal             [-1,9]   \n",
       "28             SEMIO_VERT            person      ordinal             [-1,9]   \n",
       "29             SEMIO_LUST            person      ordinal             [-1,9]   \n",
       "30              SEMIO_ERL            person      ordinal             [-1,9]   \n",
       "31             SEMIO_KULT            person      ordinal             [-1,9]   \n",
       "32              SEMIO_RAT            person      ordinal             [-1,9]   \n",
       "33             SEMIO_KRIT            person      ordinal             [-1,9]   \n",
       "34              SEMIO_DOM            person      ordinal             [-1,9]   \n",
       "35             SEMIO_KAEM            person      ordinal             [-1,9]   \n",
       "36          SEMIO_PFLICHT            person      ordinal             [-1,9]   \n",
       "37            SEMIO_TRADV            person      ordinal             [-1,9]   \n",
       "42               ZABEOTYP            person  categorical             [-1,9]   \n",
       "\n",
       "    nan_count  \n",
       "2           0  \n",
       "4           0  \n",
       "5           0  \n",
       "6           0  \n",
       "7           0  \n",
       "8           0  \n",
       "9           0  \n",
       "10          0  \n",
       "13          0  \n",
       "24          0  \n",
       "25          0  \n",
       "26          0  \n",
       "27          0  \n",
       "28          0  \n",
       "29          0  \n",
       "30          0  \n",
       "31          0  \n",
       "32          0  \n",
       "33          0  \n",
       "34          0  \n",
       "35          0  \n",
       "36          0  \n",
       "37          0  \n",
       "42          0  "
      ]
     },
     "execution_count": 149,
     "metadata": {},
     "output_type": "execute_result"
    }
   ],
   "source": [
    "# Compare the distribution of values for at least five columns where there are\n",
    "# no or few missing values, between the two subsets.\n",
    "\n",
    "#Columns with no missing value. We will compare the distribution of these features.\n",
    "feat_info[feat_info['nan_count'] == 0]"
   ]
  },
  {
   "cell_type": "code",
   "execution_count": 150,
   "metadata": {},
   "outputs": [],
   "source": [
    "def compare_plot(attribute):\n",
    "    plt.title('many missing')\n",
    "    plt.subplot(2, 1, 1)\n",
    "    sns.countplot(x=attribute, data=azdias_many_missing);\n",
    "    plt.title('few missing')\n",
    "    plt.subplot(2, 1, 2)\n",
    "    sns.countplot(x=attribute, data=azdias_few_missing);\n",
    "    plt.show()"
   ]
  },
  {
   "cell_type": "code",
   "execution_count": 151,
   "metadata": {},
   "outputs": [
    {
     "data": {
      "image/png": "[encoded data removed]",
      "text/plain": [
       "<matplotlib.figure.Figure at 0x7f2dc79d5e10>"
      ]
     },
     "metadata": {},
     "output_type": "display_data"
    },
    {
     "data": {
      "image/png": "[encoded data removed]",
      "text/plain": [
       "<matplotlib.figure.Figure at 0x7f2dc7cb8630>"
      ]
     },
     "metadata": {},
     "output_type": "display_data"
    },
    {
     "data": {
      "image/png": "[encoded data removed]",
      "text/plain": [
       "<matplotlib.figure.Figure at 0x7f2ddbdc6f60>"
      ]
     },
     "metadata": {},
     "output_type": "display_data"
    },
    {
     "data": {
      "image/png": "[encoded data removed]",
      "text/plain": [
       "<matplotlib.figure.Figure at 0x7f2ddbdbe860>"
      ]
     },
     "metadata": {},
     "output_type": "display_data"
    },
    {
     "data": {
      "image/png": "[encoded data removed]",
      "text/plain": [
       "<matplotlib.figure.Figure at 0x7f2df183b908>"
      ]
     },
     "metadata": {},
     "output_type": "display_data"
    },
    {
     "data": {
      "image/png": "[encoded data removed]",
      "text/plain": [
       "<matplotlib.figure.Figure at 0x7f2df15316d8>"
      ]
     },
     "metadata": {},
     "output_type": "display_data"
    },
    {
     "data": {
      "image/png": "[encoded data removed]",
      "text/plain": [
       "<matplotlib.figure.Figure at 0x7f2df1464908>"
      ]
     },
     "metadata": {},
     "output_type": "display_data"
    },
    {
     "data": {
      "image/png": "[encoded data removed]",
      "text/plain": [
       "<matplotlib.figure.Figure at 0x7f2df18a8780>"
      ]
     },
     "metadata": {},
     "output_type": "display_data"
    },
    {
     "data": {
      "image/png": "[encoded data removed]",
      "text/plain": [
       "<matplotlib.figure.Figure at 0x7f2df18925c0>"
      ]
     },
     "metadata": {},
     "output_type": "display_data"
    },
    {
     "data": {
      "image/png": "[encoded data removed]",
      "text/plain": [
       "<matplotlib.figure.Figure at 0x7f2dc7921a58>"
      ]
     },
     "metadata": {},
     "output_type": "display_data"
    }
   ],
   "source": [
    "#Compare the distribution of 10 attributes\n",
    "attributes = feat_info.loc[feat_info['nan_count'] == 0, 'attribute']\n",
    "attributes = attributes[:10]\n",
    "\n",
    "for attribute in attributes:\n",
    "    compare_plot(attribute)"
   ]
  },
  {
   "cell_type": "markdown",
   "metadata": {},
   "source": [
    "#### Discussion 1.1.3: Assess Missing Data in Each Row\n",
    "\n",
    "It appears that data with many missing features have very different distribution from the data with few missing features. For a lot of attributes, data with many missing features have a distribution such that the feature is concentrated on a particular value. So different treatment is needed for these data."
   ]
  },
  {
   "cell_type": "markdown",
   "metadata": {},
   "source": [
    "### Step 1.2: Select and Re-Encode Features\n",
    "\n",
    "Checking for missing data isn't the only way in which you can prepare a dataset for analysis. Since the unsupervised learning techniques to be used will only work on data that is encoded numerically, you need to make a few encoding changes or additional assumptions to be able to make progress. In addition, while almost all of the values in the dataset are encoded using numbers, not all of them represent numeric values. Check the third column of the feature summary (`feat_info`) for a summary of types of measurement.\n",
    "- For numeric and interval data, these features can be kept without changes.\n",
    "- Most of the variables in the dataset are ordinal in nature. While ordinal values may technically be non-linear in spacing, make the simplifying assumption that the ordinal variables can be treated as being interval in nature (that is, kept without any changes).\n",
    "- Special handling may be necessary for the remaining two variable types: categorical, and 'mixed'.\n",
    "\n",
    "In the first two parts of this sub-step, you will perform an investigation of the categorical and mixed-type features and make a decision on each of them, whether you will keep, drop, or re-encode each. Then, in the last part, you will create a new data frame with only the selected and engineered columns.\n",
    "\n",
    "Data wrangling is often the trickiest part of the data analysis process, and there's a lot of it to be done here. But stick with it: once you're done with this step, you'll be ready to get to the machine learning parts of the project!"
   ]
  },
  {
   "cell_type": "code",
   "execution_count": 152,
   "metadata": {},
   "outputs": [
    {
     "data": {
      "text/plain": [
       "ordinal        49\n",
       "categorical    18\n",
       "numeric         6\n",
       "mixed           6\n",
       "Name: type, dtype: int64"
      ]
     },
     "execution_count": 152,
     "metadata": {},
     "output_type": "execute_result"
    }
   ],
   "source": [
    "# How many features are there of each data type?\n",
    "feat_info['type'].value_counts()"
   ]
  },
  {
   "cell_type": "markdown",
   "metadata": {},
   "source": [
    "#### Step 1.2.1: Re-Encode Categorical Features\n",
    "\n",
    "For categorical data, you would ordinarily need to encode the levels as dummy variables. Depending on the number of categories, perform one of the following:\n",
    "- For binary (two-level) categoricals that take numeric values, you can keep them without needing to do anything.\n",
    "- There is one binary variable that takes on non-numeric values. For this one, you need to re-encode the values as numbers or create a dummy variable.\n",
    "- For multi-level categoricals (three or more values), you can choose to encode the values using multiple dummy variables (e.g. via [OneHotEncoder](http://scikit-learn.org/stable/modules/generated/sklearn.preprocessing.OneHotEncoder.html)), or (to keep things straightforward) just drop them from the analysis. As always, document your choices in the Discussion section."
   ]
  },
  {
   "cell_type": "code",
   "execution_count": 153,
   "metadata": {},
   "outputs": [
    {
     "name": "stdout",
     "output_type": "stream",
     "text": [
      "ANREDE_KZ\n",
      "2    407251\n",
      "1    374029\n",
      "Name: ANREDE_KZ, dtype: int64\n"
     ]
    },
    {
     "data": {
      "image/png": "[encoded data removed]",
      "text/plain": [
       "<matplotlib.figure.Figure at 0x7f2dc7970550>"
      ]
     },
     "metadata": {},
     "output_type": "display_data"
    },
    {
     "name": "stdout",
     "output_type": "stream",
     "text": [
      "CJT_GESAMTTYP\n",
      "4.0    193740\n",
      "3.0    143795\n",
      "2.0    139828\n",
      "5.0    109463\n",
      "6.0     99083\n",
      "1.0     91492\n",
      "Name: CJT_GESAMTTYP, dtype: int64\n"
     ]
    },
    {
     "data": {
      "image/png": "[encoded data removed]",
      "text/plain": [
       "<matplotlib.figure.Figure at 0x7f2df3a61c88>"
      ]
     },
     "metadata": {},
     "output_type": "display_data"
    },
    {
     "name": "stdout",
     "output_type": "stream",
     "text": [
      "FINANZTYP\n",
      "6    287209\n",
      "1    192917\n",
      "5    104718\n",
      "2    102490\n",
      "4     55135\n",
      "3     38811\n",
      "Name: FINANZTYP, dtype: int64\n"
     ]
    },
    {
     "data": {
      "image/png": "[encoded data removed]",
      "text/plain": [
       "<matplotlib.figure.Figure at 0x7f2df3a182e8>"
      ]
     },
     "metadata": {},
     "output_type": "display_data"
    },
    {
     "name": "stdout",
     "output_type": "stream",
     "text": [
      "GFK_URLAUBERTYP\n",
      "12.0    125750\n",
      "10.0    101411\n",
      "8.0      81903\n",
      "11.0     73959\n",
      "5.0      69938\n",
      "4.0      60181\n",
      "9.0      55754\n",
      "3.0      52946\n",
      "1.0      50174\n",
      "7.0      40090\n",
      "2.0      39748\n",
      "6.0      25547\n",
      "Name: GFK_URLAUBERTYP, dtype: int64\n"
     ]
    },
    {
     "data": {
      "image/png": "[encoded data removed]",
      "text/plain": [
       "<matplotlib.figure.Figure at 0x7f2dc79b6f28>"
      ]
     },
     "metadata": {},
     "output_type": "display_data"
    },
    {
     "name": "stdout",
     "output_type": "stream",
     "text": [
      "GREEN_AVANTGARDE\n",
      "0    609397\n",
      "1    171883\n",
      "Name: GREEN_AVANTGARDE, dtype: int64\n"
     ]
    },
    {
     "data": {
      "image/png": "[encoded data removed]",
      "text/plain": [
       "<matplotlib.figure.Figure at 0x7f2df17b1710>"
      ]
     },
     "metadata": {},
     "output_type": "display_data"
    },
    {
     "name": "stdout",
     "output_type": "stream",
     "text": [
      "LP_FAMILIE_FEIN\n",
      "1.0     395611\n",
      "10.0    127279\n",
      "2.0      96213\n",
      "11.0     48237\n",
      "8.0      21336\n",
      "7.0      18705\n",
      "4.0      11255\n",
      "5.0      10978\n",
      "9.0      10291\n",
      "6.0       7767\n",
      "3.0       4399\n",
      "Name: LP_FAMILIE_FEIN, dtype: int64\n"
     ]
    },
    {
     "data": {
      "image/png": "[encoded data removed]",
      "text/plain": [
       "<matplotlib.figure.Figure at 0x7f2df39eb6d8>"
      ]
     },
     "metadata": {},
     "output_type": "display_data"
    },
    {
     "name": "stdout",
     "output_type": "stream",
     "text": [
      "LP_FAMILIE_GROB\n",
      "1.0    395611\n",
      "5.0    185807\n",
      "2.0     96213\n",
      "4.0     47808\n",
      "3.0     26632\n",
      "Name: LP_FAMILIE_GROB, dtype: int64\n"
     ]
    },
    {
     "data": {
      "image/png": "[encoded data removed]",
      "text/plain": [
       "<matplotlib.figure.Figure at 0x7f2dc794dd30>"
      ]
     },
     "metadata": {},
     "output_type": "display_data"
    },
    {
     "name": "stdout",
     "output_type": "stream",
     "text": [
      "LP_STATUS_FEIN\n",
      "1.0     204891\n",
      "9.0     131409\n",
      "2.0     110084\n",
      "10.0    109424\n",
      "4.0      73364\n",
      "3.0      68452\n",
      "6.0      28257\n",
      "5.0      26393\n",
      "8.0      16081\n",
      "7.0       9046\n",
      "Name: LP_STATUS_FEIN, dtype: int64\n"
     ]
    },
    {
     "data": {
      "image/png": "[encoded data removed]",
      "text/plain": [
       "<matplotlib.figure.Figure at 0x7f2dc7b58240>"
      ]
     },
     "metadata": {},
     "output_type": "display_data"
    },
    {
     "name": "stdout",
     "output_type": "stream",
     "text": [
      "LP_STATUS_GROB\n",
      "1.0    314975\n",
      "2.0    168209\n",
      "4.0    147490\n",
      "5.0    109424\n",
      "3.0     37303\n",
      "Name: LP_STATUS_GROB, dtype: int64\n"
     ]
    },
    {
     "data": {
      "image/png": "[encoded data removed]",
      "text/plain": [
       "<matplotlib.figure.Figure at 0x7f2df3aa1fd0>"
      ]
     },
     "metadata": {},
     "output_type": "display_data"
    },
    {
     "name": "stdout",
     "output_type": "stream",
     "text": [
      "NATIONALITAET_KZ\n",
      "1.0    654706\n",
      "2.0     62632\n",
      "3.0     31826\n",
      "Name: NATIONALITAET_KZ, dtype: int64\n"
     ]
    },
    {
     "data": {
      "image/png": "[encoded data removed]",
      "text/plain": [
       "<matplotlib.figure.Figure at 0x7f2df3a089b0>"
      ]
     },
     "metadata": {},
     "output_type": "display_data"
    },
    {
     "name": "stdout",
     "output_type": "stream",
     "text": [
      "SHOPPER_TYP\n",
      "1.0    241199\n",
      "2.0    204202\n",
      "3.0    174757\n",
      "0.0    126362\n",
      "Name: SHOPPER_TYP, dtype: int64\n"
     ]
    },
    {
     "data": {
      "image/png": "[encoded data removed]",
      "text/plain": [
       "<matplotlib.figure.Figure at 0x7f2df3aa1828>"
      ]
     },
     "metadata": {},
     "output_type": "display_data"
    },
    {
     "name": "stdout",
     "output_type": "stream",
     "text": [
      "SOHO_KZ\n",
      "0.0    774726\n",
      "1.0      6554\n",
      "Name: SOHO_KZ, dtype: int64\n"
     ]
    },
    {
     "data": {
      "image/png": "[encoded data removed]",
      "text/plain": [
       "<matplotlib.figure.Figure at 0x7f2dc78ff630>"
      ]
     },
     "metadata": {},
     "output_type": "display_data"
    },
    {
     "name": "stdout",
     "output_type": "stream",
     "text": [
      "VERS_TYP\n",
      "2.0    389861\n",
      "1.0    356659\n",
      "Name: VERS_TYP, dtype: int64\n"
     ]
    },
    {
     "data": {
      "image/png": "[encoded data removed]",
      "text/plain": [
       "<matplotlib.figure.Figure at 0x7f2df187c4a8>"
      ]
     },
     "metadata": {},
     "output_type": "display_data"
    },
    {
     "name": "stdout",
     "output_type": "stream",
     "text": [
      "ZABEOTYP\n",
      "3    277122\n",
      "4    203927\n",
      "1    119869\n",
      "5     79655\n",
      "6     69895\n",
      "2     30812\n",
      "Name: ZABEOTYP, dtype: int64\n"
     ]
    },
    {
     "data": {
      "image/png": "[encoded data removed]",
      "text/plain": [
       "<matplotlib.figure.Figure at 0x7f2df18a1e80>"
      ]
     },
     "metadata": {},
     "output_type": "display_data"
    },
    {
     "name": "stdout",
     "output_type": "stream",
     "text": [
      "GEBAEUDETYP\n",
      "1.0    447947\n",
      "3.0    175970\n",
      "8.0    151511\n",
      "2.0      4443\n",
      "4.0       838\n",
      "6.0       570\n",
      "5.0         1\n",
      "Name: GEBAEUDETYP, dtype: int64\n"
     ]
    },
    {
     "data": {
      "image/png": "[encoded data removed]",
      "text/plain": [
       "<matplotlib.figure.Figure at 0x7f2df14689b0>"
      ]
     },
     "metadata": {},
     "output_type": "display_data"
    },
    {
     "name": "stdout",
     "output_type": "stream",
     "text": [
      "OST_WEST_KZ\n",
      "W    615657\n",
      "O    165623\n",
      "Name: OST_WEST_KZ, dtype: int64\n"
     ]
    },
    {
     "data": {
      "image/png": "[encoded data removed]",
      "text/plain": [
       "<matplotlib.figure.Figure at 0x7f2df1461e80>"
      ]
     },
     "metadata": {},
     "output_type": "display_data"
    },
    {
     "name": "stdout",
     "output_type": "stream",
     "text": [
      "CAMEO_DEUG_2015\n",
      "8    133436\n",
      "9    107369\n",
      "6    104442\n",
      "4    101409\n",
      "3     83346\n",
      "2     81232\n",
      "7     76878\n",
      "5     53464\n",
      "1     35597\n",
      "Name: CAMEO_DEUG_2015, dtype: int64\n"
     ]
    },
    {
     "data": {
      "image/png": "[encoded data removed]",
      "text/plain": [
       "<matplotlib.figure.Figure at 0x7f2df1284ef0>"
      ]
     },
     "metadata": {},
     "output_type": "display_data"
    },
    {
     "name": "stdout",
     "output_type": "stream",
     "text": [
      "CAMEO_DEU_2015\n",
      "6B    55888\n",
      "8A    52124\n",
      "4C    46659\n",
      "2D    34407\n",
      "3C    34175\n",
      "7A    33917\n",
      "3D    33668\n",
      "8B    33068\n",
      "4A    32270\n",
      "8C    30783\n",
      "9D    28414\n",
      "9B    27512\n",
      "9C    24863\n",
      "7B    24178\n",
      "9A    20407\n",
      "2C    18869\n",
      "8D    17461\n",
      "6E    15961\n",
      "2B    15044\n",
      "5D    14708\n",
      "6C    14599\n",
      "2A    12912\n",
      "1D    11766\n",
      "5A    11183\n",
      "1A    10640\n",
      "5B    10170\n",
      "5C     9642\n",
      "7C     8974\n",
      "4B     8814\n",
      "3A     8785\n",
      "4D     8442\n",
      "3B     6718\n",
      "6A     6697\n",
      "9E     6173\n",
      "6D     6003\n",
      "6F     5294\n",
      "7D     5268\n",
      "4E     5224\n",
      "1E     4978\n",
      "7E     4541\n",
      "5F     4221\n",
      "1C     4215\n",
      "1B     3998\n",
      "5E     3540\n",
      "Name: CAMEO_DEU_2015, dtype: int64\n"
     ]
    },
    {
     "data": {
      "image/png": "[encoded data removed]",
      "text/plain": [
       "<matplotlib.figure.Figure at 0x7f2dc7961eb8>"
      ]
     },
     "metadata": {},
     "output_type": "display_data"
    }
   ],
   "source": [
    "# Assess categorical variables: which are binary, which are multi-level, and\n",
    "# which one needs to be re-encoded?\n",
    "attributes = feat_info.loc[feat_info['type'] == 'categorical', 'attribute']\n",
    "\n",
    "for attribute in attributes:\n",
    "    print(attribute)\n",
    "    print(azdias_few_missing[attribute].value_counts())\n",
    "    plt.title(attribute)\n",
    "    sns.countplot(x=attribute, data=azdias_few_missing);\n",
    "    plt.show()"
   ]
  },
  {
   "cell_type": "markdown",
   "metadata": {},
   "source": [
    "Looking at the data distribution and also information on data_dictionary, we will treat each categorical variables as below.\n",
    "\n",
    "* <b>ANREDE_KZ</b>: OneHotEncode.\n",
    "* <b>CJT_GESAMTTYP</b>: OneHotEncode.\n",
    "* <b>FINANZTYP</b>: OneHotEncode.\n",
    "* <b>GFK_URLAUBERTYPK</b>: OneHotEncode.\n",
    "* <b>GREEN_AVANTGARDE</b>: Already encoded (no action needed).\n",
    "* <b>LP_FAMILIE_FEIN</b>: OneHotEncode.\n",
    "* <b>LP_FAMILIE_GROB</b>: OneHotEncode.\n",
    "* <b>LP_STATUS_FEIN</b>: OneHotEncode.\n",
    "* <b>LP_STATUS_GROB</b>: Keep it. Looks more like ordinal variable than categorical variable (based on the description of the variable in the dictionary)\n",
    "* <b>NATIONALITAET_KZ</b>: OneHotEncode.\n",
    "* <b>SHOPPER_TYP</b>: OneHotEncode.\n",
    "* <b>SOHO_KZ</b>: OneHotEncode.\n",
    "* <b>VERS_TYP</b>: OneHotEncode.\n",
    "* <b>ZABEOTYP</b>: OneHotEncode.\n",
    "* <b>GEBAEUDETYP</b>: OneHotEncode.\n",
    "* <b>OST_WEST_KZ</b>: OneHotEncode.\n",
    "* <b>CAMEO_DEUG_2015</b>: Keep it. Looks more like ordinal variable than categorical variable (based on the description of the variable in the dictionary)\n",
    "* <b>CAMEO_DEU_2015</b>: OneHotEncode."
   ]
  },
  {
   "cell_type": "code",
   "execution_count": 154,
   "metadata": {},
   "outputs": [],
   "source": [
    "#One hot encoding\n",
    "cols = [\n",
    "    'ANREDE_KZ',\n",
    "    'CJT_GESAMTTYP',\n",
    "    'FINANZTYP',\n",
    "    'GFK_URLAUBERTYP',\n",
    "    'LP_FAMILIE_FEIN',\n",
    "    'LP_FAMILIE_GROB',\n",
    "    'LP_STATUS_FEIN',\n",
    "    'SHOPPER_TYP',\n",
    "    'VERS_TYP',\n",
    "    'ZABEOTYP',\n",
    "    'GEBAEUDETYP',\n",
    "    'OST_WEST_KZ',\n",
    "    'CAMEO_DEU_2015',\n",
    "    'SOHO_KZ',\n",
    "    'NATIONALITAET_KZ'\n",
    "]\n",
    "\n",
    "azdias_few_missing = pd.get_dummies(azdias_few_missing, columns=cols)"
   ]
  },
  {
   "cell_type": "code",
   "execution_count": 155,
   "metadata": {},
   "outputs": [],
   "source": [
    "#Drop this as only one entry takes value of 5.0\n",
    "azdias_few_missing.drop('GEBAEUDETYP_5.0', axis=1, inplace=True)"
   ]
  },
  {
   "cell_type": "markdown",
   "metadata": {},
   "source": [
    "#### Discussion 1.2.1: Re-Encode Categorical Features\n",
    "\n",
    "By consulting with data dictionary, we decided to keep 'LP_STATUS_GROB', 'CAMEO_DEUG_2015'as they are, as they are more like ordinal features rather than categorical. For the rest of the features, we applied one hot encoding.\n"
   ]
  },
  {
   "cell_type": "markdown",
   "metadata": {},
   "source": [
    "#### Step 1.2.2: Engineer Mixed-Type Features\n",
    "\n",
    "There are a handful of features that are marked as \"mixed\" in the feature summary that require special treatment in order to be included in the analysis. There are two in particular that deserve attention; the handling of the rest are up to your own choices:\n",
    "- \"PRAEGENDE_JUGENDJAHRE\" combines information on three dimensions: generation by decade, movement (mainstream vs. avantgarde), and nation (east vs. west). While there aren't enough levels to disentangle east from west, you should create two new variables to capture the other two dimensions: an interval-type variable for decade, and a binary variable for movement.\n",
    "- \"CAMEO_INTL_2015\" combines information on two axes: wealth and life stage. Break up the two-digit codes by their 'tens'-place and 'ones'-place digits into two new ordinal variables (which, for the purposes of this project, is equivalent to just treating them as their raw numeric values).\n",
    "- If you decide to keep or engineer new features around the other mixed-type features, make sure you note your steps in the Discussion section.\n",
    "\n",
    "Be sure to check `Data_Dictionary.md` for the details needed to finish these tasks."
   ]
  },
  {
   "cell_type": "code",
   "execution_count": 156,
   "metadata": {},
   "outputs": [
    {
     "name": "stdout",
     "output_type": "stream",
     "text": [
      "LP_LEBENSPHASE_FEIN\n",
      "[ 15.  21.   3.  nan  32.   8.   2.   5.  10.   4.   6.  23.  12.  20.   1.\n",
      "  11.  25.  13.   7.  18.  31.  19.  38.  35.  30.  22.  14.  33.  29.  24.\n",
      "  28.  37.  26.  39.  27.  36.   9.  34.  40.  16.  17.]\n"
     ]
    },
    {
     "data": {
      "image/png": "[encoded data removed]",
      "text/plain": [
       "<matplotlib.figure.Figure at 0x7f2ddbdc6c18>"
      ]
     },
     "metadata": {},
     "output_type": "display_data"
    },
    {
     "name": "stdout",
     "output_type": "stream",
     "text": [
      "LP_LEBENSPHASE_GROB\n",
      "[  4.   6.   1.  nan  10.   2.   3.   5.   7.  12.  11.   9.   8.]\n"
     ]
    },
    {
     "data": {
      "image/png": "[encoded data removed]",
      "text/plain": [
       "<matplotlib.figure.Figure at 0x7f2ddbdc64a8>"
      ]
     },
     "metadata": {},
     "output_type": "display_data"
    },
    {
     "name": "stdout",
     "output_type": "stream",
     "text": [
      "PRAEGENDE_JUGENDJAHRE\n",
      "[ nan  14.  15.   8.   3.  10.  11.   5.   9.   6.   4.   2.   1.  12.  13.\n",
      "   7.]\n"
     ]
    },
    {
     "data": {
      "image/png": "[encoded data removed]",
      "text/plain": [
       "<matplotlib.figure.Figure at 0x7f2df39b21d0>"
      ]
     },
     "metadata": {},
     "output_type": "display_data"
    },
    {
     "name": "stdout",
     "output_type": "stream",
     "text": [
      "WOHNLAGE\n",
      "[ nan   4.   2.   7.   3.   5.   1.   8.   0.]\n"
     ]
    },
    {
     "data": {
      "image/png": "[encoded data removed]",
      "text/plain": [
       "<matplotlib.figure.Figure at 0x7f2df3a7e550>"
      ]
     },
     "metadata": {},
     "output_type": "display_data"
    },
    {
     "name": "stdout",
     "output_type": "stream",
     "text": [
      "CAMEO_INTL_2015\n",
      "[nan '51' '24' '12' '43' '54' '22' '14' '13' '15' '33' '41' '34' '55' '25'\n",
      " '23' '31' '52' '35' '45' '44' '32']\n"
     ]
    },
    {
     "data": {
      "image/png": "[encoded data removed]",
      "text/plain": [
       "<matplotlib.figure.Figure at 0x7f2df39ac908>"
      ]
     },
     "metadata": {},
     "output_type": "display_data"
    },
    {
     "name": "stdout",
     "output_type": "stream",
     "text": [
      "PLZ8_BAUMAX\n",
      "[ nan   1.   2.   4.   5.   3.]\n"
     ]
    },
    {
     "data": {
      "image/png": "[encoded data removed]",
      "text/plain": [
       "<matplotlib.figure.Figure at 0x7f2dc7906320>"
      ]
     },
     "metadata": {},
     "output_type": "display_data"
    }
   ],
   "source": [
    "#Print the mixed-type features\n",
    "attributes = feat_info.loc[feat_info['type'] == 'mixed', 'attribute']\n",
    "\n",
    "for attribute in attributes:\n",
    "    print(attribute)\n",
    "    print(azdias[attribute].unique())\n",
    "    plt.title(attribute)\n",
    "    sns.countplot(x=attribute, data=azdias_few_missing);\n",
    "    plt.show()"
   ]
  },
  {
   "cell_type": "code",
   "execution_count": 157,
   "metadata": {},
   "outputs": [
    {
     "name": "stdout",
     "output_type": "stream",
     "text": [
      "1    6.0\n",
      "2    6.0\n",
      "3    4.0\n",
      "4    4.0\n",
      "5    2.0\n",
      "Name: PRAEGENDE_JUGENDJAHRE_Decade, dtype: float64\n",
      "1    1.0\n",
      "2    0.0\n",
      "3    1.0\n",
      "4    1.0\n",
      "5    1.0\n",
      "Name: PRAEGENDE_JUGENDJAHRE_IsMainstream, dtype: float64\n"
     ]
    }
   ],
   "source": [
    "# Investigate \"PRAEGENDE_JUGENDJAHRE\" and engineer two new variables.\n",
    "\n",
    "#Create dictionaries for mapping\n",
    "decade_map_dict = {1:1, 2:1, 3:2, 4:2, 5:3, 6:3, 7:3, 8:4, 9:4, 10:5, 11:5, 12:5, 13:5, 14:6, 15:6, np.nan:np.nan}\n",
    "stream_map_dict = {1:1, 2:0, 3:1, 4:0, 5:1, 6:0, 7:0, 8:1, 9:0, 10:1, 11:0, 12:1, 13:0, 14:1, 15:0, np.nan:np.nan}\n",
    "\n",
    "#Create new columns using the map\n",
    "azdias_few_missing['PRAEGENDE_JUGENDJAHRE_Decade'] = azdias_few_missing['PRAEGENDE_JUGENDJAHRE'].map(decade_map_dict)\n",
    "azdias_few_missing['PRAEGENDE_JUGENDJAHRE_IsMainstream'] = azdias_few_missing['PRAEGENDE_JUGENDJAHRE'].map(stream_map_dict)\n",
    "\n",
    "#Check the mapping\n",
    "print(azdias_few_missing['PRAEGENDE_JUGENDJAHRE_Decade'].head(5))\n",
    "print(azdias_few_missing['PRAEGENDE_JUGENDJAHRE_IsMainstream'].head(5))\n",
    "\n",
    "#Drop the original column\n",
    "azdias_few_missing.drop('PRAEGENDE_JUGENDJAHRE', axis=1, inplace=True)\n"
   ]
  },
  {
   "cell_type": "code",
   "execution_count": 158,
   "metadata": {},
   "outputs": [
    {
     "name": "stdout",
     "output_type": "stream",
     "text": [
      "1    5.0\n",
      "2    2.0\n",
      "3    1.0\n",
      "4    4.0\n",
      "5    5.0\n",
      "Name: CAMEO_INTL_2015_Wealth, dtype: float64\n"
     ]
    }
   ],
   "source": [
    "# Investigate \"CAMEO_INTL_2015\" and engineer two new variables.\n",
    "\n",
    "col_list = azdias['CAMEO_INTL_2015'].unique()\n",
    "\n",
    "wealth_map_dict = {}\n",
    "lifestage_map_dict = {}\n",
    "#Create dictionary of mapping\n",
    "for col in col_list:\n",
    "    if pd.isnull(col) == True:\n",
    "        wealth_map_dict[col] = np.nan\n",
    "        lifestage_map_dict[col] = np.nan\n",
    "    else:\n",
    "        wealth_map_dict[col] = int(str(col)[:1])\n",
    "        lifestage_map_dict[col] = int(str(col)[:-1])\n",
    "\n",
    "azdias_few_missing['CAMEO_INTL_2015_Wealth'] = azdias_few_missing['CAMEO_INTL_2015'].map(wealth_map_dict)\n",
    "azdias_few_missing['CAMEO_INTL_2015_Lifestage'] = azdias_few_missing['CAMEO_INTL_2015'].map(lifestage_map_dict)\n",
    "\n",
    "azdias_few_missing = pd.get_dummies(azdias_few_missing, columns=['CAMEO_INTL_2015_Lifestage'])\n",
    "\n",
    "#Check the mapping\n",
    "print(azdias_few_missing['CAMEO_INTL_2015_Wealth'].head())\n",
    "\n",
    "#Drop the original column\n",
    "azdias_few_missing.drop('CAMEO_INTL_2015', axis=1, inplace=True)\n"
   ]
  },
  {
   "cell_type": "code",
   "execution_count": 159,
   "metadata": {},
   "outputs": [],
   "source": [
    "# Investigate \"WOHNLAGE\" and engineer two new variables.\n",
    "\n",
    "#Create dictionaries for mapping\n",
    "quality_map_dict = {1:1, 2:2, 3:3, 4:4, 5:5, 7:0, 8:0, np.nan:np.nan}\n",
    "rural_map_dict = {1:0, 2:0, 3:0, 4:0, 5:0, 7:1, 8:2, np.nan:np.nan}\n",
    "\n",
    "#Create new columns using the map\n",
    "azdias_few_missing['WOHNLAGE_Quality'] = azdias_few_missing['WOHNLAGE'].map(quality_map_dict)\n",
    "azdias_few_missing['WOHNLAGE_Rural'] = azdias_few_missing['WOHNLAGE'].map(rural_map_dict)\n",
    "\n",
    "#Drop the original column\n",
    "azdias_few_missing.drop('WOHNLAGE', axis=1, inplace=True)"
   ]
  },
  {
   "cell_type": "code",
   "execution_count": 160,
   "metadata": {},
   "outputs": [],
   "source": [
    "#Drop 'LP_LEBENSPHASE_FEIN' and 'LP_LEBENSPHASE_GROB'\n",
    "drop_col = ['LP_LEBENSPHASE_FEIN','LP_LEBENSPHASE_GROB']\n",
    "azdias_few_missing.drop(drop_col, axis=1, inplace=True)"
   ]
  },
  {
   "cell_type": "markdown",
   "metadata": {},
   "source": [
    "#### Discussion 1.2.2: Engineer Mixed-Type Features\n",
    "\n",
    "* <b>PRAEGENDE_JUGENDJAHRE</b>: Created two new features, 1. PRAEGENDE_JUGENDJAHRE_Decade, indicating person's youth in decade (ordinal variable), and 2. PRAEGENDE_JUGENDJAHRE_IsMainstream, indicating movement in person's youth (categorical variable).\n",
    "\n",
    "* <b>CAMEO_INTL_2015</b>: Created two new features, 1. CAMEO_INTL_2015_Wealth, indicating person's wealth (ordinal variable), and 2. CAMEO_INTL_2015_Lifestage, indicating person's family style (categorical variable).\n",
    "\n",
    "* <b>PLZ8_BAUMAX</b>: From the data dictionary, it looks like this feature represents the most common building type. This variable appears to be ordinal in nature as 1 indicates 1-2 family homes and gradually increases until 5 which indicates mainly business buildings. So keep it as it is.\n",
    "\n",
    "* <b>WOHNLAGE</b>: This feature represents the quality of neighborhood, from 1 (very good neighborhood) to 5 (very pooor neighborhood). 7 and 8 indicates the state of rural neighborhood. So created two new features 1. WOHNLAGE_Quality, indicating the quality of neighborhood, 2. WOHNLAGE_Rural, rural flag.\n",
    "\n",
    "* <b>LP_LEBENSPHASE_FEIN</b>: This feature contains information around family style (single, parent, family, etc.), income level (low, average, top) and ages(young, middle, advanced, retirement). However, the information is commingled and difficult to segregate. So this feature has been dropped.\n",
    "\n",
    "* <b>LP_LEBENSPHASE_GROB</b>: Dropped due toe the same reason as LP_LEBENSPHASE_FEIN."
   ]
  },
  {
   "cell_type": "markdown",
   "metadata": {},
   "source": [
    "#### Step 1.2.3: Complete Feature Selection\n",
    "\n",
    "In order to finish this step up, you need to make sure that your data frame now only has the columns that you want to keep. To summarize, the dataframe should consist of the following:\n",
    "- All numeric, interval, and ordinal type columns from the original dataset.\n",
    "- Binary categorical features (all numerically-encoded).\n",
    "- Engineered features from other multi-level categorical features and mixed features.\n",
    "\n",
    "Make sure that for any new columns that you have engineered, that you've excluded the original columns from the final dataset. Otherwise, their values will interfere with the analysis later on the project. For example, you should not keep \"PRAEGENDE_JUGENDJAHRE\", since its values won't be useful for the algorithm: only the values derived from it in the engineered features you created should be retained. As a reminder, your data should only be from **the subset with few or no missing values**."
   ]
  },
  {
   "cell_type": "code",
   "execution_count": 161,
   "metadata": {},
   "outputs": [],
   "source": [
    "# If there are other re-engineering tasks you need to perform, make sure you\n",
    "# take care of them here. (Dealing with missing data will come in step 2.1.)\n"
   ]
  },
  {
   "cell_type": "code",
   "execution_count": 162,
   "metadata": {},
   "outputs": [
    {
     "data": {
      "text/plain": [
       "(781280, 190)"
      ]
     },
     "execution_count": 162,
     "metadata": {},
     "output_type": "execute_result"
    }
   ],
   "source": [
    "# Do whatever you need to in order to ensure that the dataframe only contains\n",
    "# the columns that should be passed to the algorithm functions.\n",
    "\n",
    "#drop nan_count column\n",
    "azdias_few_missing.drop(['nan_count'],axis=1, inplace=True) \n",
    "azdias_few_missing.shape"
   ]
  },
  {
   "cell_type": "markdown",
   "metadata": {},
   "source": [
    "### Step 1.3: Create a Cleaning Function\n",
    "\n",
    "Even though you've finished cleaning up the general population demographics data, it's important to look ahead to the future and realize that you'll need to perform the same cleaning steps on the customer demographics data. In this substep, complete the function below to execute the main feature selection, encoding, and re-engineering steps you performed above. Then, when it comes to looking at the customer data in Step 3, you can just run this function on that DataFrame to get the trimmed dataset in a single step."
   ]
  },
  {
   "cell_type": "code",
   "execution_count": 163,
   "metadata": {},
   "outputs": [],
   "source": [
    "def clean_data(df):\n",
    "    \"\"\"\n",
    "    Perform feature trimming, re-encoding, and engineering for demographics\n",
    "    data\n",
    "    \n",
    "    INPUT: Demographics DataFrame\n",
    "    OUTPUT: Trimmed and cleaned demographics DataFrame\n",
    "    \"\"\"\n",
    "\n",
    "    #======================== Convert missing value codes into NaNs,====================\n",
    "    unknown_dict={\n",
    "            '[-1,0]':[-1,0],\n",
    "            '[-1,0,9]':[-1,0,9],\n",
    "            '[0]':[0],\n",
    "            '[-1]':[-1],\n",
    "            '[-1,9]':[-1,9],\n",
    "            '[-1,X]':[-1,'X'],\n",
    "            '[XX]':['XX'],\n",
    "            '[-1,XX]':[-1,'XX']\n",
    "    }\n",
    "\n",
    "    for key, value in unknown_dict.items():\n",
    "        features = feat_info.loc[feat_info['missing_or_unknown'] == key, 'attribute']\n",
    "        df[features.values] = df[features.values].replace(value, np.nan)\n",
    "    #====================================================================================\n",
    "    \n",
    "    \n",
    "    # ======================= Remove selected columns and rows, =========================\n",
    "    drop_col = [\n",
    "            'AGER_TYP',\n",
    "            'GEBURTSJAHR',\n",
    "            'TITEL_KZ',\n",
    "            'ALTER_HH',\n",
    "            'KK_KUNDENTYP',\n",
    "            'KBA05_BAUMAX',\n",
    "            'LP_LEBENSPHASE_FEIN',\n",
    "            'LP_LEBENSPHASE_GROB'\n",
    "    ]\n",
    "    \n",
    "    df.drop(drop_col, axis=1, inplace=True)\n",
    "    #====================================================================================\n",
    "\n",
    "\n",
    "    # ====================== One hot encoding ===========================================\n",
    "    cols = [\n",
    "        'ANREDE_KZ',\n",
    "        'CJT_GESAMTTYP',\n",
    "        'FINANZTYP',\n",
    "        'GFK_URLAUBERTYP',\n",
    "        'LP_FAMILIE_FEIN',\n",
    "        'LP_FAMILIE_GROB',\n",
    "        'LP_STATUS_FEIN',\n",
    "        'SHOPPER_TYP',\n",
    "        'VERS_TYP',\n",
    "        'ZABEOTYP',\n",
    "        'GEBAEUDETYP',\n",
    "        'OST_WEST_KZ',\n",
    "        'CAMEO_DEU_2015',\n",
    "        'SOHO_KZ',\n",
    "        'NATIONALITAET_KZ'\n",
    "    ]\n",
    "\n",
    "    df = pd.get_dummies(df, columns=cols)\n",
    "    #==================================================================================\n",
    "\n",
    "    #========================= Re-engineer \"PRAEGENDE_JUGENDJAHRE\" =====================\n",
    "\n",
    "    #Create dictionaries for mapping\n",
    "    decade_map_dict = {1:1, 2:1, 3:2, 4:2, 5:3, 6:3, 7:3, 8:4, 9:4, 10:5, 11:5, 12:5, 13:5, 14:6, 15:6, np.nan:np.nan}\n",
    "    stream_map_dict = {1:1, 2:0, 3:1, 4:0, 5:1, 6:0, 7:0, 8:1, 9:0, 10:1, 11:0, 12:1, 13:0, 14:1, 15:0, np.nan:np.nan}\n",
    "\n",
    "    #Create new columns using the map\n",
    "    df['PRAEGENDE_JUGENDJAHRE_Decade'] = df['PRAEGENDE_JUGENDJAHRE'].map(decade_map_dict)\n",
    "    df['PRAEGENDE_JUGENDJAHRE_IsMainstream'] = df['PRAEGENDE_JUGENDJAHRE'].map(stream_map_dict)\n",
    "    \n",
    "    #Drop the original column\n",
    "    df.drop('PRAEGENDE_JUGENDJAHRE', axis=1, inplace=True)\n",
    "    \n",
    "    #====================================================================================\n",
    "    \n",
    "    \n",
    "    #======================== Re-engineer \"CAMEO_INTL_2015\" =============================\n",
    "\n",
    "    col_list = df['CAMEO_INTL_2015'].unique()\n",
    "\n",
    "    wealth_map_dict = {}\n",
    "    lifestage_map_dict = {}\n",
    "    #Create dictionary of mapping\n",
    "    for col in col_list:\n",
    "        if pd.isnull(col) == True:\n",
    "            wealth_map_dict[col] = np.nan\n",
    "            lifestage_map_dict[col] = np.nan\n",
    "        else:\n",
    "            wealth_map_dict[col] = int(str(col)[:1])\n",
    "            lifestage_map_dict[col] = int(str(col)[:-1])\n",
    "\n",
    "    df['CAMEO_INTL_2015_Wealth'] = df['CAMEO_INTL_2015'].map(wealth_map_dict)\n",
    "    df['CAMEO_INTL_2015_Lifestage'] = df['CAMEO_INTL_2015'].map(lifestage_map_dict)\n",
    "    \n",
    "    df = pd.get_dummies(df, columns=['CAMEO_INTL_2015_Lifestage'])\n",
    "\n",
    "    #Drop the original column\n",
    "    df.drop('CAMEO_INTL_2015', axis=1, inplace=True)\n",
    "    \n",
    "    #====================================================================================\n",
    "    \n",
    "    \n",
    "    #================================= Re-engineer \"WOHNLAGE\" =============================\n",
    "\n",
    "    #Create dictionaries for mapping\n",
    "    quality_map_dict = {1:1, 2:2, 3:3, 4:4, 5:5, 7:0, 8:0, np.nan:np.nan}\n",
    "    rural_map_dict = {1:0, 2:0, 3:0, 4:0, 5:0, 7:1, 8:2, np.nan:np.nan}\n",
    "\n",
    "    #Create new columns using the map\n",
    "    df['WOHNLAGE_Quality'] = df['WOHNLAGE'].map(quality_map_dict)\n",
    "    df['WOHNLAGE_Rural'] = df['WOHNLAGE'].map(rural_map_dict)\n",
    "\n",
    "    #Drop the original column\n",
    "    df.drop('WOHNLAGE', axis=1, inplace=True)\n",
    "    \n",
    "     #====================================================================================\n",
    "    \n",
    "    # Return the cleaned dataframe.\n",
    "    return df\n",
    "    "
   ]
  },
  {
   "cell_type": "markdown",
   "metadata": {},
   "source": [
    "## Step 2: Feature Transformation\n",
    "\n",
    "### Step 2.1: Apply Feature Scaling\n",
    "\n",
    "Before we apply dimensionality reduction techniques to the data, we need to perform feature scaling so that the principal component vectors are not influenced by the natural differences in scale for features. Starting from this part of the project, you'll want to keep an eye on the [API reference page for sklearn](http://scikit-learn.org/stable/modules/classes.html) to help you navigate to all of the classes and functions that you'll need. In this substep, you'll need to check the following:\n",
    "\n",
    "- sklearn requires that data not have missing values in order for its estimators to work properly. So, before applying the scaler to your data, make sure that you've cleaned the DataFrame of the remaining missing values before applying your scaler. This can be as simple as just removing all data points with missing data, or applying an [Imputer](http://scikit-learn.org/stable/modules/generated/sklearn.preprocessing.Imputer.html) to replace all missing values. You might also try a more complicated procedure where you temporarily remove missing values in order to compute the scaling parameters before re-introducing those missing values and applying imputation. Think about how much missing data you have and what possible effects each approach might have on your analysis, and justify your decision in the discussion section below.\n",
    "- For the actual scaling function, a [StandardScaler](http://scikit-learn.org/stable/modules/generated/sklearn.preprocessing.StandardScaler.html) instance is suggested, scaling each feature to mean 0 and standard deviation 1.\n",
    "- For these classes, you can make use of the `.fit_transform()` method to both fit a procedure to the data as well as apply the transformation to the data at the same time. Don't forget to keep the fit sklearn objects handy, since you'll be applying them to the customer demographics data towards the end of the project."
   ]
  },
  {
   "cell_type": "code",
   "execution_count": 164,
   "metadata": {},
   "outputs": [
    {
     "name": "stdout",
     "output_type": "stream",
     "text": [
      "Max missing ratio: 7.27%\n"
     ]
    }
   ],
   "source": [
    "#What is the max ratio of NaN values?\n",
    "print('Max missing ratio: ' + '{:.2%}'.format(max(azdias_few_missing.isnull().sum()/azdias_few_missing.shape[0])))"
   ]
  },
  {
   "cell_type": "code",
   "execution_count": 165,
   "metadata": {},
   "outputs": [],
   "source": [
    "# If you've not yet cleaned the dataset of all NaN values, then investigate and\n",
    "# do that now.\n",
    "imp = Imputer(strategy='most_frequent')\n",
    "imputed_features = imp.fit_transform(azdias_few_missing)\n",
    "azdias_few_missing = pd.DataFrame(imputed_features, columns=azdias_few_missing.columns)"
   ]
  },
  {
   "cell_type": "code",
   "execution_count": 166,
   "metadata": {},
   "outputs": [
    {
     "data": {
      "text/plain": [
       "False"
      ]
     },
     "execution_count": 166,
     "metadata": {},
     "output_type": "execute_result"
    }
   ],
   "source": [
    "#Make sure there's no NaN values\n",
    "azdias_few_missing.isnull().any().any()"
   ]
  },
  {
   "cell_type": "code",
   "execution_count": 167,
   "metadata": {},
   "outputs": [],
   "source": [
    "# Apply feature scaling to the general population demographics data.\n",
    "sc = StandardScaler()\n",
    "scaled_features = sc.fit_transform (azdias_few_missing)\n",
    "azdias_few_missing = pd.DataFrame(scaled_features, columns=azdias_few_missing.columns)"
   ]
  },
  {
   "cell_type": "code",
   "execution_count": 168,
   "metadata": {},
   "outputs": [
    {
     "data": {
      "text/html": [
       "<div>\n",
       "<style>\n",
       "    .dataframe thead tr:only-child th {\n",
       "        text-align: right;\n",
       "    }\n",
       "\n",
       "    .dataframe thead th {\n",
       "        text-align: left;\n",
       "    }\n",
       "\n",
       "    .dataframe tbody tr th {\n",
       "        vertical-align: top;\n",
       "    }\n",
       "</style>\n",
       "<table border=\"1\" class=\"dataframe\">\n",
       "  <thead>\n",
       "    <tr style=\"text-align: right;\">\n",
       "      <th></th>\n",
       "      <th>ALTERSKATEGORIE_GROB</th>\n",
       "      <th>FINANZ_MINIMALIST</th>\n",
       "      <th>FINANZ_SPARER</th>\n",
       "      <th>FINANZ_VORSORGER</th>\n",
       "      <th>FINANZ_ANLEGER</th>\n",
       "      <th>FINANZ_UNAUFFAELLIGER</th>\n",
       "      <th>FINANZ_HAUSBAUER</th>\n",
       "      <th>GREEN_AVANTGARDE</th>\n",
       "      <th>HEALTH_TYP</th>\n",
       "      <th>LP_STATUS_GROB</th>\n",
       "      <th>...</th>\n",
       "      <th>PRAEGENDE_JUGENDJAHRE_Decade</th>\n",
       "      <th>PRAEGENDE_JUGENDJAHRE_IsMainstream</th>\n",
       "      <th>CAMEO_INTL_2015_Wealth</th>\n",
       "      <th>CAMEO_INTL_2015_Lifestage_1.0</th>\n",
       "      <th>CAMEO_INTL_2015_Lifestage_2.0</th>\n",
       "      <th>CAMEO_INTL_2015_Lifestage_3.0</th>\n",
       "      <th>CAMEO_INTL_2015_Lifestage_4.0</th>\n",
       "      <th>CAMEO_INTL_2015_Lifestage_5.0</th>\n",
       "      <th>WOHNLAGE_Quality</th>\n",
       "      <th>WOHNLAGE_Rural</th>\n",
       "    </tr>\n",
       "  </thead>\n",
       "  <tbody>\n",
       "    <tr>\n",
       "      <th>0</th>\n",
       "      <td>-1.767627</td>\n",
       "      <td>-1.488353</td>\n",
       "      <td>1.539115</td>\n",
       "      <td>-1.045210</td>\n",
       "      <td>1.467074</td>\n",
       "      <td>0.979459</td>\n",
       "      <td>1.327259</td>\n",
       "      <td>-0.531088</td>\n",
       "      <td>1.006178</td>\n",
       "      <td>-0.951870</td>\n",
       "      <td>...</td>\n",
       "      <td>1.105137</td>\n",
       "      <td>0.531088</td>\n",
       "      <td>1.170379</td>\n",
       "      <td>-0.419318</td>\n",
       "      <td>-0.556524</td>\n",
       "      <td>-0.304174</td>\n",
       "      <td>-0.561831</td>\n",
       "      <td>1.587329</td>\n",
       "      <td>0.968369</td>\n",
       "      <td>-0.530125</td>\n",
       "    </tr>\n",
       "    <tr>\n",
       "      <th>1</th>\n",
       "      <td>0.198180</td>\n",
       "      <td>-1.488353</td>\n",
       "      <td>0.866549</td>\n",
       "      <td>-1.771603</td>\n",
       "      <td>-0.569168</td>\n",
       "      <td>0.261984</td>\n",
       "      <td>1.327259</td>\n",
       "      <td>1.882928</td>\n",
       "      <td>1.006178</td>\n",
       "      <td>-0.289635</td>\n",
       "      <td>...</td>\n",
       "      <td>1.105137</td>\n",
       "      <td>-1.882928</td>\n",
       "      <td>-0.874703</td>\n",
       "      <td>-0.419318</td>\n",
       "      <td>1.796868</td>\n",
       "      <td>-0.304174</td>\n",
       "      <td>-0.561831</td>\n",
       "      <td>-0.629989</td>\n",
       "      <td>-0.257882</td>\n",
       "      <td>-0.530125</td>\n",
       "    </tr>\n",
       "    <tr>\n",
       "      <th>2</th>\n",
       "      <td>1.181083</td>\n",
       "      <td>0.688484</td>\n",
       "      <td>-0.478584</td>\n",
       "      <td>1.133969</td>\n",
       "      <td>-0.569168</td>\n",
       "      <td>-1.172966</td>\n",
       "      <td>-0.817043</td>\n",
       "      <td>-0.531088</td>\n",
       "      <td>-0.316208</td>\n",
       "      <td>1.034834</td>\n",
       "      <td>...</td>\n",
       "      <td>-0.259846</td>\n",
       "      <td>0.531088</td>\n",
       "      <td>-1.556398</td>\n",
       "      <td>2.384823</td>\n",
       "      <td>-0.556524</td>\n",
       "      <td>-0.304174</td>\n",
       "      <td>-0.561831</td>\n",
       "      <td>-0.629989</td>\n",
       "      <td>-1.484133</td>\n",
       "      <td>1.565737</td>\n",
       "    </tr>\n",
       "    <tr>\n",
       "      <th>3</th>\n",
       "      <td>0.198180</td>\n",
       "      <td>0.688484</td>\n",
       "      <td>0.193983</td>\n",
       "      <td>0.407576</td>\n",
       "      <td>-1.247915</td>\n",
       "      <td>0.261984</td>\n",
       "      <td>-0.817043</td>\n",
       "      <td>-0.531088</td>\n",
       "      <td>1.006178</td>\n",
       "      <td>-0.289635</td>\n",
       "      <td>...</td>\n",
       "      <td>-0.259846</td>\n",
       "      <td>0.531088</td>\n",
       "      <td>0.488685</td>\n",
       "      <td>-0.419318</td>\n",
       "      <td>-0.556524</td>\n",
       "      <td>-0.304174</td>\n",
       "      <td>1.779895</td>\n",
       "      <td>-0.629989</td>\n",
       "      <td>0.355244</td>\n",
       "      <td>-0.530125</td>\n",
       "    </tr>\n",
       "    <tr>\n",
       "      <th>4</th>\n",
       "      <td>-1.767627</td>\n",
       "      <td>-0.037129</td>\n",
       "      <td>-1.151150</td>\n",
       "      <td>1.133969</td>\n",
       "      <td>-0.569168</td>\n",
       "      <td>-0.455491</td>\n",
       "      <td>1.327259</td>\n",
       "      <td>-0.531088</td>\n",
       "      <td>1.006178</td>\n",
       "      <td>-0.289635</td>\n",
       "      <td>...</td>\n",
       "      <td>-1.624829</td>\n",
       "      <td>0.531088</td>\n",
       "      <td>1.170379</td>\n",
       "      <td>-0.419318</td>\n",
       "      <td>-0.556524</td>\n",
       "      <td>-0.304174</td>\n",
       "      <td>-0.561831</td>\n",
       "      <td>1.587329</td>\n",
       "      <td>-1.484133</td>\n",
       "      <td>1.565737</td>\n",
       "    </tr>\n",
       "  </tbody>\n",
       "</table>\n",
       "<p>5 rows × 190 columns</p>\n",
       "</div>"
      ],
      "text/plain": [
       "   ALTERSKATEGORIE_GROB  FINANZ_MINIMALIST  FINANZ_SPARER  FINANZ_VORSORGER  \\\n",
       "0             -1.767627          -1.488353       1.539115         -1.045210   \n",
       "1              0.198180          -1.488353       0.866549         -1.771603   \n",
       "2              1.181083           0.688484      -0.478584          1.133969   \n",
       "3              0.198180           0.688484       0.193983          0.407576   \n",
       "4             -1.767627          -0.037129      -1.151150          1.133969   \n",
       "\n",
       "   FINANZ_ANLEGER  FINANZ_UNAUFFAELLIGER  FINANZ_HAUSBAUER  GREEN_AVANTGARDE  \\\n",
       "0        1.467074               0.979459          1.327259         -0.531088   \n",
       "1       -0.569168               0.261984          1.327259          1.882928   \n",
       "2       -0.569168              -1.172966         -0.817043         -0.531088   \n",
       "3       -1.247915               0.261984         -0.817043         -0.531088   \n",
       "4       -0.569168              -0.455491          1.327259         -0.531088   \n",
       "\n",
       "   HEALTH_TYP  LP_STATUS_GROB       ...        PRAEGENDE_JUGENDJAHRE_Decade  \\\n",
       "0    1.006178       -0.951870       ...                            1.105137   \n",
       "1    1.006178       -0.289635       ...                            1.105137   \n",
       "2   -0.316208        1.034834       ...                           -0.259846   \n",
       "3    1.006178       -0.289635       ...                           -0.259846   \n",
       "4    1.006178       -0.289635       ...                           -1.624829   \n",
       "\n",
       "   PRAEGENDE_JUGENDJAHRE_IsMainstream  CAMEO_INTL_2015_Wealth  \\\n",
       "0                            0.531088                1.170379   \n",
       "1                           -1.882928               -0.874703   \n",
       "2                            0.531088               -1.556398   \n",
       "3                            0.531088                0.488685   \n",
       "4                            0.531088                1.170379   \n",
       "\n",
       "   CAMEO_INTL_2015_Lifestage_1.0  CAMEO_INTL_2015_Lifestage_2.0  \\\n",
       "0                      -0.419318                      -0.556524   \n",
       "1                      -0.419318                       1.796868   \n",
       "2                       2.384823                      -0.556524   \n",
       "3                      -0.419318                      -0.556524   \n",
       "4                      -0.419318                      -0.556524   \n",
       "\n",
       "   CAMEO_INTL_2015_Lifestage_3.0  CAMEO_INTL_2015_Lifestage_4.0  \\\n",
       "0                      -0.304174                      -0.561831   \n",
       "1                      -0.304174                      -0.561831   \n",
       "2                      -0.304174                      -0.561831   \n",
       "3                      -0.304174                       1.779895   \n",
       "4                      -0.304174                      -0.561831   \n",
       "\n",
       "   CAMEO_INTL_2015_Lifestage_5.0  WOHNLAGE_Quality  WOHNLAGE_Rural  \n",
       "0                       1.587329          0.968369       -0.530125  \n",
       "1                      -0.629989         -0.257882       -0.530125  \n",
       "2                      -0.629989         -1.484133        1.565737  \n",
       "3                      -0.629989          0.355244       -0.530125  \n",
       "4                       1.587329         -1.484133        1.565737  \n",
       "\n",
       "[5 rows x 190 columns]"
      ]
     },
     "execution_count": 168,
     "metadata": {},
     "output_type": "execute_result"
    }
   ],
   "source": [
    "#Check the entries of the data\n",
    "azdias_few_missing.head()"
   ]
  },
  {
   "cell_type": "markdown",
   "metadata": {},
   "source": [
    "### Discussion 2.1: Apply Feature Scaling\n",
    "\n",
    "Maximum of number of NaN ratio of the columns is around 7%. As the variables we are dealing with are not numerical features, we should not use mean as a way to fill the missing values. Mode (most_frequent) is more appropriate to use in this case."
   ]
  },
  {
   "cell_type": "markdown",
   "metadata": {},
   "source": [
    "### Step 2.2: Perform Dimensionality Reduction\n",
    "\n",
    "On your scaled data, you are now ready to apply dimensionality reduction techniques.\n",
    "\n",
    "- Use sklearn's [PCA](http://scikit-learn.org/stable/modules/generated/sklearn.decomposition.PCA.html) class to apply principal component analysis on the data, thus finding the vectors of maximal variance in the data. To start, you should not set any parameters (so all components are computed) or set a number of components that is at least half the number of features (so there's enough features to see the general trend in variability).\n",
    "- Check out the ratio of variance explained by each principal component as well as the cumulative variance explained. Try plotting the cumulative or sequential values using matplotlib's [`plot()`](https://matplotlib.org/api/_as_gen/matplotlib.pyplot.plot.html) function. Based on what you find, select a value for the number of transformed features you'll retain for the clustering part of the project.\n",
    "- Once you've made a choice for the number of components to keep, make sure you re-fit a PCA instance to perform the decided-on transformation."
   ]
  },
  {
   "cell_type": "code",
   "execution_count": 170,
   "metadata": {},
   "outputs": [
    {
     "data": {
      "text/plain": [
       "array([[  4.51266759e+00,  -4.05236626e+00,  -3.43767080e+00, ...,\n",
       "         -7.08838604e-16,   6.52955399e-15,   6.67399714e-15],\n",
       "       [ -5.86421652e-01,  -5.65113240e-01,  -3.49915904e+00, ...,\n",
       "          5.82796660e-15,   6.88501122e-15,   3.05631194e-15],\n",
       "       [ -5.34072131e+00,   1.94361234e+00,  -1.45813330e+00, ...,\n",
       "         -3.81651162e-15,   5.52069720e-15,  -2.55457136e-15],\n",
       "       ..., \n",
       "       [ -1.51533998e+00,  -3.91991830e+00,  -3.55131848e+00, ...,\n",
       "          3.30979887e-17,  -1.15331133e-17,   1.72886504e-17],\n",
       "       [  6.43076860e+00,  -4.68639564e+00,   2.90387089e+00, ...,\n",
       "         -2.38405849e-17,   1.87776406e-17,   4.12891225e-17],\n",
       "       [  6.72619638e-01,   2.32715118e+00,   2.58654672e+00, ...,\n",
       "          3.38794280e-17,   1.64625301e-17,  -1.33027455e-17]])"
      ]
     },
     "execution_count": 170,
     "metadata": {},
     "output_type": "execute_result"
    }
   ],
   "source": [
    "# Apply PCA to the data.\n",
    "pca = PCA()\n",
    "pca.fit_transform(azdias_few_missing)"
   ]
  },
  {
   "cell_type": "code",
   "execution_count": 171,
   "metadata": {},
   "outputs": [
    {
     "name": "stdout",
     "output_type": "stream",
     "text": [
      "Total components: 190\n"
     ]
    },
    {
     "data": {
      "image/png": "[encoded data removed]",
      "text/plain": [
       "<matplotlib.figure.Figure at 0x7f2df1287208>"
      ]
     },
     "metadata": {},
     "output_type": "display_data"
    }
   ],
   "source": [
    "# Investigate the variance accounted for by each principal component.\n",
    "total_components = len(pca.explained_variance_ratio_)\n",
    "print('Total components: ' + str(total_components))\n",
    "var_list=[]\n",
    "for i in range(total_components):\n",
    "    var_list.append(pca.explained_variance_ratio_[:i].sum())\n",
    "\n",
    "x = range(total_components)\n",
    "plt.ylabel('Cumulative variance')\n",
    "plt.xlabel('Number of components')\n",
    "plt.plot(x,var_list,marker='o')\n",
    "plt.show()"
   ]
  },
  {
   "cell_type": "code",
   "execution_count": 172,
   "metadata": {},
   "outputs": [
    {
     "name": "stdout",
     "output_type": "stream",
     "text": [
      "108 components account for 90.23% variability\n"
     ]
    }
   ],
   "source": [
    "for i in range(total_components):\n",
    "    if var_list[i] > 0.9:\n",
    "        print(str(i+1) + ' components account for ' + '{:.2%}'.format(var_list[i]) + ' variability')\n",
    "        break"
   ]
  },
  {
   "cell_type": "code",
   "execution_count": 173,
   "metadata": {},
   "outputs": [],
   "source": [
    "# Re-apply PCA to the data while selecting for number of components to retain.\n",
    "n_comp = 108\n",
    "pca = PCA(n_components=n_comp)\n",
    "cols = ['P' + str(i) for i in range(n_comp)]\n",
    "reduced_d = pca.fit_transform(azdias_few_missing)\n"
   ]
  },
  {
   "cell_type": "code",
   "execution_count": 174,
   "metadata": {},
   "outputs": [
    {
     "name": "stdout",
     "output_type": "stream",
     "text": [
      "Total explained variance: 90.57%\n"
     ]
    }
   ],
   "source": [
    "#Ensure that the reduced data explains more than 90% varaince of original data set\n",
    "print('Total explained variance: ' + '{:.2%}'.format(pca.explained_variance_ratio_.sum()))"
   ]
  },
  {
   "cell_type": "code",
   "execution_count": 175,
   "metadata": {},
   "outputs": [],
   "source": [
    "principal_data = pd.DataFrame(reduced_d, columns=cols)"
   ]
  },
  {
   "cell_type": "code",
   "execution_count": 176,
   "metadata": {},
   "outputs": [
    {
     "data": {
      "text/html": [
       "<div>\n",
       "<style>\n",
       "    .dataframe thead tr:only-child th {\n",
       "        text-align: right;\n",
       "    }\n",
       "\n",
       "    .dataframe thead th {\n",
       "        text-align: left;\n",
       "    }\n",
       "\n",
       "    .dataframe tbody tr th {\n",
       "        vertical-align: top;\n",
       "    }\n",
       "</style>\n",
       "<table border=\"1\" class=\"dataframe\">\n",
       "  <thead>\n",
       "    <tr style=\"text-align: right;\">\n",
       "      <th></th>\n",
       "      <th>P0</th>\n",
       "      <th>P1</th>\n",
       "      <th>P2</th>\n",
       "      <th>P3</th>\n",
       "      <th>P4</th>\n",
       "      <th>P5</th>\n",
       "      <th>P6</th>\n",
       "      <th>P7</th>\n",
       "      <th>P8</th>\n",
       "      <th>P9</th>\n",
       "      <th>...</th>\n",
       "      <th>P98</th>\n",
       "      <th>P99</th>\n",
       "      <th>P100</th>\n",
       "      <th>P101</th>\n",
       "      <th>P102</th>\n",
       "      <th>P103</th>\n",
       "      <th>P104</th>\n",
       "      <th>P105</th>\n",
       "      <th>P106</th>\n",
       "      <th>P107</th>\n",
       "    </tr>\n",
       "  </thead>\n",
       "  <tbody>\n",
       "    <tr>\n",
       "      <th>0</th>\n",
       "      <td>4.512668</td>\n",
       "      <td>-4.052365</td>\n",
       "      <td>-3.437685</td>\n",
       "      <td>0.799244</td>\n",
       "      <td>0.672423</td>\n",
       "      <td>-1.985594</td>\n",
       "      <td>1.825536</td>\n",
       "      <td>0.196257</td>\n",
       "      <td>1.268668</td>\n",
       "      <td>2.227996</td>\n",
       "      <td>...</td>\n",
       "      <td>-1.895866</td>\n",
       "      <td>-0.517827</td>\n",
       "      <td>0.383228</td>\n",
       "      <td>-1.506219</td>\n",
       "      <td>0.369989</td>\n",
       "      <td>-0.315839</td>\n",
       "      <td>-1.184180</td>\n",
       "      <td>-0.568132</td>\n",
       "      <td>-0.070333</td>\n",
       "      <td>-0.845704</td>\n",
       "    </tr>\n",
       "    <tr>\n",
       "      <th>1</th>\n",
       "      <td>-0.586422</td>\n",
       "      <td>-0.565114</td>\n",
       "      <td>-3.499150</td>\n",
       "      <td>1.430323</td>\n",
       "      <td>-3.451934</td>\n",
       "      <td>-0.564257</td>\n",
       "      <td>-0.331859</td>\n",
       "      <td>-0.511260</td>\n",
       "      <td>0.308353</td>\n",
       "      <td>-0.364167</td>\n",
       "      <td>...</td>\n",
       "      <td>0.258007</td>\n",
       "      <td>0.171324</td>\n",
       "      <td>0.333324</td>\n",
       "      <td>-0.021527</td>\n",
       "      <td>-0.361580</td>\n",
       "      <td>1.018410</td>\n",
       "      <td>0.481759</td>\n",
       "      <td>0.441520</td>\n",
       "      <td>-0.138146</td>\n",
       "      <td>-0.816187</td>\n",
       "    </tr>\n",
       "    <tr>\n",
       "      <th>2</th>\n",
       "      <td>-5.340722</td>\n",
       "      <td>1.943604</td>\n",
       "      <td>-1.458147</td>\n",
       "      <td>-1.562054</td>\n",
       "      <td>-0.412115</td>\n",
       "      <td>1.363772</td>\n",
       "      <td>-0.768972</td>\n",
       "      <td>0.148255</td>\n",
       "      <td>0.897965</td>\n",
       "      <td>1.111912</td>\n",
       "      <td>...</td>\n",
       "      <td>0.705667</td>\n",
       "      <td>0.379027</td>\n",
       "      <td>0.305491</td>\n",
       "      <td>-1.354676</td>\n",
       "      <td>0.570555</td>\n",
       "      <td>1.024572</td>\n",
       "      <td>0.821419</td>\n",
       "      <td>0.198242</td>\n",
       "      <td>-0.317728</td>\n",
       "      <td>-0.340403</td>\n",
       "    </tr>\n",
       "    <tr>\n",
       "      <th>3</th>\n",
       "      <td>0.264840</td>\n",
       "      <td>0.357640</td>\n",
       "      <td>3.468375</td>\n",
       "      <td>1.850229</td>\n",
       "      <td>2.732577</td>\n",
       "      <td>-3.311157</td>\n",
       "      <td>-0.725851</td>\n",
       "      <td>-1.480914</td>\n",
       "      <td>-2.503327</td>\n",
       "      <td>-3.642617</td>\n",
       "      <td>...</td>\n",
       "      <td>0.542382</td>\n",
       "      <td>0.000137</td>\n",
       "      <td>1.033740</td>\n",
       "      <td>-1.230135</td>\n",
       "      <td>0.002722</td>\n",
       "      <td>1.771812</td>\n",
       "      <td>-0.370790</td>\n",
       "      <td>0.357681</td>\n",
       "      <td>-0.247595</td>\n",
       "      <td>0.473994</td>\n",
       "    </tr>\n",
       "    <tr>\n",
       "      <th>4</th>\n",
       "      <td>-0.604306</td>\n",
       "      <td>-0.804532</td>\n",
       "      <td>-1.368620</td>\n",
       "      <td>-4.073761</td>\n",
       "      <td>-1.511643</td>\n",
       "      <td>-2.278774</td>\n",
       "      <td>-0.655899</td>\n",
       "      <td>-1.589346</td>\n",
       "      <td>1.242644</td>\n",
       "      <td>0.159312</td>\n",
       "      <td>...</td>\n",
       "      <td>-0.138114</td>\n",
       "      <td>0.029496</td>\n",
       "      <td>-0.071672</td>\n",
       "      <td>0.824102</td>\n",
       "      <td>-0.256569</td>\n",
       "      <td>0.690446</td>\n",
       "      <td>0.064760</td>\n",
       "      <td>0.233021</td>\n",
       "      <td>0.153239</td>\n",
       "      <td>-0.163188</td>\n",
       "    </tr>\n",
       "  </tbody>\n",
       "</table>\n",
       "<p>5 rows × 108 columns</p>\n",
       "</div>"
      ],
      "text/plain": [
       "         P0        P1        P2        P3        P4        P5        P6  \\\n",
       "0  4.512668 -4.052365 -3.437685  0.799244  0.672423 -1.985594  1.825536   \n",
       "1 -0.586422 -0.565114 -3.499150  1.430323 -3.451934 -0.564257 -0.331859   \n",
       "2 -5.340722  1.943604 -1.458147 -1.562054 -0.412115  1.363772 -0.768972   \n",
       "3  0.264840  0.357640  3.468375  1.850229  2.732577 -3.311157 -0.725851   \n",
       "4 -0.604306 -0.804532 -1.368620 -4.073761 -1.511643 -2.278774 -0.655899   \n",
       "\n",
       "         P7        P8        P9    ...          P98       P99      P100  \\\n",
       "0  0.196257  1.268668  2.227996    ...    -1.895866 -0.517827  0.383228   \n",
       "1 -0.511260  0.308353 -0.364167    ...     0.258007  0.171324  0.333324   \n",
       "2  0.148255  0.897965  1.111912    ...     0.705667  0.379027  0.305491   \n",
       "3 -1.480914 -2.503327 -3.642617    ...     0.542382  0.000137  1.033740   \n",
       "4 -1.589346  1.242644  0.159312    ...    -0.138114  0.029496 -0.071672   \n",
       "\n",
       "       P101      P102      P103      P104      P105      P106      P107  \n",
       "0 -1.506219  0.369989 -0.315839 -1.184180 -0.568132 -0.070333 -0.845704  \n",
       "1 -0.021527 -0.361580  1.018410  0.481759  0.441520 -0.138146 -0.816187  \n",
       "2 -1.354676  0.570555  1.024572  0.821419  0.198242 -0.317728 -0.340403  \n",
       "3 -1.230135  0.002722  1.771812 -0.370790  0.357681 -0.247595  0.473994  \n",
       "4  0.824102 -0.256569  0.690446  0.064760  0.233021  0.153239 -0.163188  \n",
       "\n",
       "[5 rows x 108 columns]"
      ]
     },
     "execution_count": 176,
     "metadata": {},
     "output_type": "execute_result"
    }
   ],
   "source": [
    "principal_data.head()"
   ]
  },
  {
   "cell_type": "markdown",
   "metadata": {},
   "source": [
    "### Discussion 2.2: Perform Dimensionality Reduction\n",
    "\n",
    "As we increase the number of components, total explained variance by principal components increase (rapidly at the beginning, and steadily afterwards). The incremental total explained varaince decreases as we have more components included, and more than 90% of variance can be explained with 112 principal components."
   ]
  },
  {
   "cell_type": "markdown",
   "metadata": {},
   "source": [
    "### Step 2.3: Interpret Principal Components\n",
    "\n",
    "Now that we have our transformed principal components, it's a nice idea to check out the weight of each variable on the first few components to see if they can be interpreted in some fashion.\n",
    "\n",
    "As a reminder, each principal component is a unit vector that points in the direction of highest variance (after accounting for the variance captured by earlier principal components). The further a weight is from zero, the more the principal component is in the direction of the corresponding feature. If two features have large weights of the same sign (both positive or both negative), then increases in one tend expect to be associated with increases in the other. To contrast, features with different signs can be expected to show a negative correlation: increases in one variable should result in a decrease in the other.\n",
    "\n",
    "- To investigate the features, you should map each weight to their corresponding feature name, then sort the features according to weight. The most interesting features for each principal component, then, will be those at the beginning and end of the sorted list. Use the data dictionary document to help you understand these most prominent features, their relationships, and what a positive or negative value on the principal component might indicate.\n",
    "- You should investigate and interpret feature associations from the first three principal components in this substep. To help facilitate this, you should write a function that you can call at any time to print the sorted list of feature weights, for the *i*-th principal component. This might come in handy in the next step of the project, when you interpret the tendencies of the discovered clusters."
   ]
  },
  {
   "cell_type": "code",
   "execution_count": 177,
   "metadata": {},
   "outputs": [],
   "source": [
    "def map_principal_weights(df, ith_component):\n",
    "    weights = pca.components_[ith_component-1]\n",
    "    features = df.columns\n",
    "    weights_dict = dict(zip(features, weights))\n",
    "    sorted_weights = [(k, weights_dict[k]) for k in sorted(weights_dict, key=weights_dict.get, reverse=True)]\n",
    "    return sorted_weights"
   ]
  },
  {
   "cell_type": "code",
   "execution_count": 178,
   "metadata": {},
   "outputs": [
    {
     "name": "stdout",
     "output_type": "stream",
     "text": [
      "First 5 components\n",
      "[('CAMEO_DEUG_2015', 0.18844302253978365), ('CAMEO_INTL_2015_Wealth', 0.18652179710579792), ('PLZ8_ANTG3', 0.18387791078406276), ('HH_EINKOMMEN_SCORE', 0.17977672985168305), ('PLZ8_ANTG4', 0.17715695484365904)]\n",
      "Last 5 components\n",
      "[('KBA05_GBZ', -0.1778535785134801), ('KBA05_ANTG1', -0.17920534176833144), ('PLZ8_ANTG1', -0.18453475195698468), ('MOBI_REGIO', -0.18862379950178482), ('LP_STATUS_GROB', -0.19447880267920492)]\n"
     ]
    }
   ],
   "source": [
    "# Map weights for the first principal component to corresponding feature names\n",
    "# and then print the linked values, sorted by weight.\n",
    "# HINT: Try defining a function here or in a new cell that you can reuse in the\n",
    "# other cells.\n",
    "sorted_weights_1st = map_principal_weights(azdias_few_missing,1)\n",
    "print('First 5 components')\n",
    "print(sorted_weights_1st[:5])\n",
    "print('Last 5 components')\n",
    "print(sorted_weights_1st[-5:])"
   ]
  },
  {
   "cell_type": "code",
   "execution_count": 179,
   "metadata": {},
   "outputs": [
    {
     "name": "stdout",
     "output_type": "stream",
     "text": [
      "First 5 components\n",
      "[('ALTERSKATEGORIE_GROB', 0.23763005199258669), ('FINANZ_VORSORGER', 0.22289810132700955), ('ZABEOTYP_3', 0.19942158765291845), ('SEMIO_ERL', 0.18697339087407366), ('SEMIO_LUST', 0.16457961109231897)]\n",
      "Last 5 components\n",
      "[('SEMIO_PFLICHT', -0.21207771382807616), ('FINANZ_UNAUFFAELLIGER', -0.21763858323020469), ('SEMIO_REL', -0.2232600300071573), ('FINANZ_SPARER', -0.23409924614330471), ('PRAEGENDE_JUGENDJAHRE_Decade', -0.23463975539640031)]\n"
     ]
    }
   ],
   "source": [
    "# Map weights for the second principal component to corresponding feature names\n",
    "# and then print the linked values, sorted by weight.\n",
    "sorted_weights_2nd = map_principal_weights(azdias_few_missing,2)\n",
    "print('First 5 components')\n",
    "print(sorted_weights_2nd[:5])\n",
    "print('Last 5 components')\n",
    "print(sorted_weights_2nd[-5:])"
   ]
  },
  {
   "cell_type": "code",
   "execution_count": 180,
   "metadata": {},
   "outputs": [
    {
     "name": "stdout",
     "output_type": "stream",
     "text": [
      "First 5 components\n",
      "[('ANREDE_KZ_1', 0.33458327676799482), ('SEMIO_VERT', 0.30695595544436832), ('SEMIO_FAM', 0.242691285175646), ('SEMIO_SOZ', 0.24108394224574564), ('SEMIO_KULT', 0.23497312563935319)]\n",
      "Last 5 components\n",
      "[('SEMIO_ERL', -0.18939980013996036), ('SEMIO_KRIT', -0.24944479414357867), ('SEMIO_DOM', -0.2714453778258088), ('SEMIO_KAEM', -0.30380597441492113), ('ANREDE_KZ_2', -0.33458327676799482)]\n"
     ]
    }
   ],
   "source": [
    "# Map weights for the third principal component to corresponding feature names\n",
    "# and then print the linked values, sorted by weight.\n",
    "sorted_weights_3rd = map_principal_weights(azdias_few_missing,3)\n",
    "print('First 5 components')\n",
    "print(sorted_weights_3rd[:5])\n",
    "print('Last 5 components')\n",
    "print(sorted_weights_3rd[-5:])"
   ]
  },
  {
   "cell_type": "markdown",
   "metadata": {},
   "source": [
    "### Discussion 2.3: Interpret Principal Components\n",
    "\n",
    "If you look at the 1st principal component, top 3 positive weights are assigned to CAMEO_DEUG_2015, CAMEO_INTL_2015_Wealth, and HH_EINKOMMEN_SCORE. These features correspond to wealth/income level, where lower score indicates higher wealth/income level. On the other hand, the largest negative weights is assigned to LP_STATUS_GROB and this is also a measure of wealth/income, however, it is measured in oppositive way (lower score indicates lower wealth/income). \n",
    "\n",
    "For the 2nd principal component, the highest weight is assinged to ALTERSKATEGORIE_GROB which represents \"estimated age based on given name analysis\". On the other hand, the highest negative weight is assigned to PRAEGENDE_JUGENDJAHRE_Decade which represents the decade era during person's youth. This is again measured in opposite direction.\n",
    "\n",
    "Also, if you at the 3rd principal component, the highest positive weight is assigned to ANREDE_KZ_1.0(feature representing male) and the highest negative weights is assinged to ANREDE_KZ_2.0(feature representing female). In addition features representing personal typology (e.g. SEMIO_VERT, SEMIO_ERL) are in both positive weights and negative weights but these feature have opposite meaning. For example, positive weight is assigned to SEMIO_FAM (family-minded) and SEMIO_SOZ(socially-minded), but negative weigh is assigned to SEMIO_DOM (dominant-minded) and SEMIO_KAEM (compatitive attitude)."
   ]
  },
  {
   "cell_type": "markdown",
   "metadata": {},
   "source": [
    "## Step 3: Clustering\n",
    "\n",
    "### Step 3.1: Apply Clustering to General Population\n",
    "\n",
    "You've assessed and cleaned the demographics data, then scaled and transformed them. Now, it's time to see how the data clusters in the principal components space. In this substep, you will apply k-means clustering to the dataset and use the average within-cluster distances from each point to their assigned cluster's centroid to decide on a number of clusters to keep.\n",
    "\n",
    "- Use sklearn's [KMeans](http://scikit-learn.org/stable/modules/generated/sklearn.cluster.KMeans.html#sklearn.cluster.KMeans) class to perform k-means clustering on the PCA-transformed data.\n",
    "- Then, compute the average difference from each point to its assigned cluster's center. **Hint**: The KMeans object's `.score()` method might be useful here, but note that in sklearn, scores tend to be defined so that larger is better. Try applying it to a small, toy dataset, or use an internet search to help your understanding.\n",
    "- Perform the above two steps for a number of different cluster counts. You can then see how the average distance decreases with an increasing number of clusters. However, each additional cluster provides a smaller net benefit. Use this fact to select a final number of clusters in which to group the data. **Warning**: because of the large size of the dataset, it can take a long time for the algorithm to resolve. The more clusters to fit, the longer the algorithm will take. You should test for cluster counts through at least 10 clusters to get the full picture, but you shouldn't need to test for a number of clusters above about 30.\n",
    "- Once you've selected a final number of clusters to use, re-fit a KMeans instance to perform the clustering operation. Make sure that you also obtain the cluster assignments for the general demographics data, since you'll be using them in the final Step 3.3."
   ]
  },
  {
   "cell_type": "code",
   "execution_count": 181,
   "metadata": {},
   "outputs": [
    {
     "data": {
      "image/png": "[encoded data removed]",
      "text/plain": [
       "<matplotlib.figure.Figure at 0x7f2dc78fd630>"
      ]
     },
     "metadata": {},
     "output_type": "display_data"
    }
   ],
   "source": [
    "# Over a number of different cluster counts...\n",
    "square_distance = []\n",
    "for i in range(1,15):\n",
    "    km = KMeans(n_clusters=i,random_state=123)\n",
    "    km.fit(principal_data)\n",
    "    square_distance.append(km.inertia_)\n",
    "\n",
    "plt.plot(range(1,15), square_distance, marker='o')\n",
    "plt.show()    "
   ]
  },
  {
   "cell_type": "markdown",
   "metadata": {},
   "source": [
    "From the plot above, the average within-cluster distance gradually decreases as you increase the number of clusters, but it seems that it does not decrease any more after the number of clusters is 10 (elbow method)."
   ]
  },
  {
   "cell_type": "code",
   "execution_count": 182,
   "metadata": {},
   "outputs": [],
   "source": [
    "# Re-fit the k-means model with the selected number of clusters and obtain\n",
    "# cluster predictions for the general population demographics data.\n",
    "km = KMeans(n_clusters=10,random_state=123)\n",
    "clusters_general = km.fit_predict(principal_data)\n"
   ]
  },
  {
   "cell_type": "markdown",
   "metadata": {},
   "source": [
    "### Discussion 3.1: Apply Clustering to General Population\n",
    "\n",
    "By using elbow method, the right number of clusters seem to be 10."
   ]
  },
  {
   "cell_type": "markdown",
   "metadata": {},
   "source": [
    "### Step 3.2: Apply All Steps to the Customer Data\n",
    "\n",
    "Now that you have clusters and cluster centers for the general population, it's time to see how the customer data maps on to those clusters. Take care to not confuse this for re-fitting all of the models to the customer data. Instead, you're going to use the fits from the general population to clean, transform, and cluster the customer data. In the last step of the project, you will interpret how the general population fits apply to the customer data.\n",
    "\n",
    "- Don't forget when loading in the customers data, that it is semicolon (`;`) delimited.\n",
    "- Apply the same feature wrangling, selection, and engineering steps to the customer demographics using the `clean_data()` function you created earlier. (You can assume that the customer demographics data has similar meaning behind missing data patterns as the general demographics data.)\n",
    "- Use the sklearn objects from the general demographics data, and apply their transformations to the customers data. That is, you should not be using a `.fit()` or `.fit_transform()` method to re-fit the old objects, nor should you be creating new sklearn objects! Carry the data through the feature scaling, PCA, and clustering steps, obtaining cluster assignments for all of the data in the customer demographics data."
   ]
  },
  {
   "cell_type": "code",
   "execution_count": 183,
   "metadata": {},
   "outputs": [],
   "source": [
    "# Load in the customer demographics data.\n",
    "customers = pd.read_csv('Udacity_CUSTOMERS_Subset.csv', delimiter=';')"
   ]
  },
  {
   "cell_type": "code",
   "execution_count": 184,
   "metadata": {},
   "outputs": [
    {
     "data": {
      "text/plain": [
       "(191652, 190)"
      ]
     },
     "execution_count": 184,
     "metadata": {},
     "output_type": "execute_result"
    }
   ],
   "source": [
    "#Clean data\n",
    "customers = clean_data(customers)\n",
    "customers.shape"
   ]
  },
  {
   "cell_type": "code",
   "execution_count": 185,
   "metadata": {},
   "outputs": [],
   "source": [
    "# Apply preprocessing, feature transformation, and clustering from the general\n",
    "# demographics onto the customer data, obtaining cluster predictions for the\n",
    "# customer demographics data.\n",
    "\n",
    "#Apply missing data imputation\n",
    "imputed_features = imp.transform (customers)\n",
    "customers = pd.DataFrame(imputed_features, columns=customers.columns)\n",
    "\n",
    "#Apply scaling\n",
    "scaled_features = sc.transform (customers)\n",
    "customers = pd.DataFrame(scaled_features, columns=customers.columns)\n",
    "\n",
    "#Apply PCA\n",
    "principal_customers = pca.transform(customers)\n",
    "\n",
    "#Clustering for customer data\n",
    "clusters_customers = km.predict(principal_customers)"
   ]
  },
  {
   "cell_type": "markdown",
   "metadata": {},
   "source": [
    "### Step 3.3: Compare Customer Data to Demographics Data\n",
    "\n",
    "At this point, you have clustered data based on demographics of the general population of Germany, and seen how the customer data for a mail-order sales company maps onto those demographic clusters. In this final substep, you will compare the two cluster distributions to see where the strongest customer base for the company is.\n",
    "\n",
    "Consider the proportion of persons in each cluster for the general population, and the proportions for the customers. If we think the company's customer base to be universal, then the cluster assignment proportions should be fairly similar between the two. If there are only particular segments of the population that are interested in the company's products, then we should see a mismatch from one to the other. If there is a higher proportion of persons in a cluster for the customer data compared to the general population (e.g. 5% of persons are assigned to a cluster for the general population, but 15% of the customer data is closest to that cluster's centroid) then that suggests the people in that cluster to be a target audience for the company. On the other hand, the proportion of the data in a cluster being larger in the general population than the customer data (e.g. only 2% of customers closest to a population centroid that captures 6% of the data) suggests that group of persons to be outside of the target demographics.\n",
    "\n",
    "Take a look at the following points in this step:\n",
    "\n",
    "- Compute the proportion of data points in each cluster for the general population and the customer data. Visualizations will be useful here: both for the individual dataset proportions, but also to visualize the ratios in cluster representation between groups. Seaborn's [`countplot()`](https://seaborn.pydata.org/generated/seaborn.countplot.html) or [`barplot()`](https://seaborn.pydata.org/generated/seaborn.barplot.html) function could be handy.\n",
    "  - Recall the analysis you performed in step 1.1.3 of the project, where you separated out certain data points from the dataset if they had more than a specified threshold of missing values. If you found that this group was qualitatively different from the main bulk of the data, you should treat this as an additional data cluster in this analysis. Make sure that you account for the number of data points in this subset, for both the general population and customer datasets, when making your computations!\n",
    "- Which cluster or clusters are overrepresented in the customer dataset compared to the general population? Select at least one such cluster and infer what kind of people might be represented by that cluster. Use the principal component interpretations from step 2.3 or look at additional components to help you make this inference. Alternatively, you can use the `.inverse_transform()` method of the PCA and StandardScaler objects to transform centroids back to the original data space and interpret the retrieved values directly.\n",
    "- Perform a similar investigation for the underrepresented clusters. Which cluster or clusters are underrepresented in the customer dataset compared to the general population, and what kinds of people are typified by these clusters?"
   ]
  },
  {
   "cell_type": "code",
   "execution_count": 190,
   "metadata": {},
   "outputs": [
    {
     "name": "stdout",
     "output_type": "stream",
     "text": [
      "[1.3614837190251894, 15.851551300430064, 8.504761417161582, 4.910147450337908, 11.622209707147245, 7.838546999795208, 10.40331251279951, 11.516229776776573, 14.037988941224658, 13.953768175302066]\n",
      "[2.1904284849623274, 16.78876296620959, 0.6057854861937262, 3.938910107903909, 29.067789535199218, 2.353223551019556, 24.983824849205853, 1.1719157639888966, 10.173648070461045, 8.725711184855884]\n"
     ]
    },
    {
     "data": {
      "text/plain": [
       "Text(0,0.5,'Difference in %')"
      ]
     },
     "execution_count": 190,
     "metadata": {},
     "output_type": "execute_result"
    },
    {
     "data": {
      "image/png": "[encoded data removed]",
      "text/plain": [
       "<matplotlib.figure.Figure at 0x7f2df3a707b8>"
      ]
     },
     "metadata": {},
     "output_type": "display_data"
    }
   ],
   "source": [
    "# Compare the proportion of data in each cluster for the customer data to the\n",
    "# proportion of data in each cluster for the general population.\n",
    "n_clusters = 10\n",
    "clusters_general_ratio = [clusters_general.tolist().count(i)/len(clusters_general)*100 for i in range(n_clusters)]\n",
    "\n",
    "clusters_customers_ratio = [clusters_customers.tolist().count(i)/len(clusters_customers)*100 for i in range(n_clusters)]\n",
    "\n",
    "diff_array = np.array(clusters_general_ratio) - np.array(clusters_customers_ratio)\n",
    "\n",
    "print(clusters_general_ratio)\n",
    "print(clusters_customers_ratio)\n",
    "\n",
    "ax = sns.barplot(x=list(range(10)),y=diff_array)\n",
    "ax.set_title('General demographics - Customer Data')\n",
    "ax.set_xlabel('Cluster number')\n",
    "ax.set_ylabel('Difference in %')"
   ]
  },
  {
   "cell_type": "code",
   "execution_count": 187,
   "metadata": {},
   "outputs": [
    {
     "name": "stdout",
     "output_type": "stream",
     "text": [
      "First 3 coordinates of cenroids for cluster\n",
      "--------------------------------------------\n",
      "Cluster 0 [-2.76558935 -0.16413222  0.11611446  1.9089839  -1.36509459]\n",
      "Cluster 1 [-4.00348663  1.48571962 -0.20397823 -2.15912345  0.39405336]\n",
      "Cluster 2 [ 4.61582611 -3.14737865  2.9020627  -0.32939201 -0.04940068]\n",
      "Cluster 3 [-3.22906946 -2.92959662 -0.47901958  1.2224006   1.44533054]\n",
      "Cluster 4 [-4.5345287   1.5913018   0.69318367  2.78882922 -0.63624666]\n",
      "Cluster 5 [-2.37337106 -4.25186797  2.47829027 -0.5699894  -0.21146646]\n",
      "Cluster 6 [-1.3455504  -3.14782497 -3.14840821 -0.25816803 -0.56965846]\n",
      "Cluster 7 [ 5.05817028 -2.16768292 -2.61737257  0.60345257 -0.14532362]\n",
      "Cluster 8 [ 2.59231819  2.2921618   3.05559023 -0.35816597  0.2109134 ]\n",
      "Cluster 9 [ 2.47259971  4.16962405 -1.9161445   0.08936481  0.1882249 ]\n"
     ]
    }
   ],
   "source": [
    "#Look at the coordinates of centroids\n",
    "print('First 3 coordinates of cenroids for cluster')\n",
    "print('--------------------------------------------')\n",
    "for i in range(10):\n",
    "    print('Cluster ' + str(i) + ' ' + str(km.cluster_centers_[i][:5]))"
   ]
  },
  {
   "cell_type": "code",
   "execution_count": null,
   "metadata": {},
   "outputs": [],
   "source": [
    "# What kinds of people are part of a cluster that is overrepresented in the\n",
    "# customer data compared to the general population?\n",
    "\n"
   ]
  },
  {
   "cell_type": "code",
   "execution_count": 22,
   "metadata": {},
   "outputs": [],
   "source": [
    "# What kinds of people are part of a cluster that is underrepresented in the\n",
    "# customer data compared to the general population?\n",
    "\n",
    "#Cluster 3 seems to be underrepresetend in customer data(9% in general demographic dadta, 0.6% in custoemr data)\n"
   ]
  },
  {
   "cell_type": "markdown",
   "metadata": {},
   "source": [
    "### Discussion 3.3: Compare Customer Data to Demographics Data\n",
    "\n",
    "* <b>Overrepresented in customer data</b>\n",
    "\n",
    "Cluster 4 seems to be overrepresented in customer data (11% in general demographic data, 29% in customer data)\n",
    "Centroid of the cluster 8 has larg negative first coordinate. If we recall from the previous step, the 1st principal\n",
    "carries information on wealth/income level of person. Also, lower score indicates higher wealth/income level. So this \n",
    "indicates that the customers are in more higher wealth/income levels as compared to general demographics in Germany. Also,\n",
    "the 2nd principal component carries information about age group of a person (smaller -> younger). This positive value indicates customers are more elderly than the average population in Germany.\n",
    "\n",
    "* <b>Underrepresented in customer data</b>\n",
    "\n",
    "Cluster 2 seems to be underrepresetend in customer data(8% in general demographic dadta, 0.6% in custoemr data). This is the opposite of the Cluster 4 above, with large positive 1st principal component and with large negative 2nd principal component. This suggests that the it is not popular among customers with lower income/wealth and young generation.\n"
   ]
  },
  {
   "cell_type": "markdown",
   "metadata": {},
   "source": [
    "> Congratulations on making it this far in the project! Before you finish, make sure to check through the entire notebook from top to bottom to make sure that your analysis follows a logical flow and all of your findings are documented in **Discussion** cells. Once you've checked over all of your work, you should export the notebook as an HTML document to submit for evaluation. You can do this from the menu, navigating to **File -> Download as -> HTML (.html)**. You will submit both that document and this notebook for your project submission."
   ]
  },
  {
   "cell_type": "code",
   "execution_count": null,
   "metadata": {},
   "outputs": [],
   "source": []
  },
  {
   "cell_type": "code",
   "execution_count": null,
   "metadata": {},
   "outputs": [],
   "source": []
  },
  {
   "cell_type": "code",
   "execution_count": null,
   "metadata": {},
   "outputs": [],
   "source": []
  },
  {
   "cell_type": "code",
   "execution_count": null,
   "metadata": {},
   "outputs": [],
   "source": []
  },
  {
   "cell_type": "code",
   "execution_count": null,
   "metadata": {},
   "outputs": [],
   "source": []
  },
  {
   "cell_type": "code",
   "execution_count": null,
   "metadata": {},
   "outputs": [],
   "source": []
  },
  {
   "cell_type": "code",
   "execution_count": null,
   "metadata": {},
   "outputs": [],
   "source": []
  },
  {
   "cell_type": "code",
   "execution_count": null,
   "metadata": {},
   "outputs": [],
   "source": []
  },
  {
   "cell_type": "code",
   "execution_count": null,
   "metadata": {},
   "outputs": [],
   "source": []
  },
  {
   "cell_type": "code",
   "execution_count": null,
   "metadata": {},
   "outputs": [],
   "source": []
  },
  {
   "cell_type": "code",
   "execution_count": null,
   "metadata": {},
   "outputs": [],
   "source": []
  }
 ],
 "metadata": {
  "kernelspec": {
   "display_name": "Python 3",
   "language": "python",
   "name": "python3"
  },
  "language_info": {
   "codemirror_mode": {
    "name": "ipython",
    "version": 3
   },
   "file_extension": ".py",
   "mimetype": "text/x-python",
   "name": "python",
   "nbconvert_exporter": "python",
   "pygments_lexer": "ipython3",
   "version": "3.6.3"
  }
 },
 "nbformat": 4,
 "nbformat_minor": 2
}
